{
 "cells": [
  {
   "cell_type": "markdown",
   "metadata": {
    "toc": true
   },
   "source": [
    "<h1>Table of Contents<span class=\"tocSkip\"></span></h1>\n",
    "<div class=\"toc\"><ul class=\"toc-item\"><li><span><a href=\"#Interactive-python-basic\" data-toc-modified-id=\"Interactive-python-basic-1\"><span class=\"toc-item-num\">1&nbsp;&nbsp;</span>Interactive python basic</a></span><ul class=\"toc-item\"><li><span><a href=\"#while-loop\" data-toc-modified-id=\"while-loop-1.1\"><span class=\"toc-item-num\">1.1&nbsp;&nbsp;</span>while loop</a></span></li><li><span><a href=\"#Recursion\" data-toc-modified-id=\"Recursion-1.2\"><span class=\"toc-item-num\">1.2&nbsp;&nbsp;</span>Recursion</a></span></li></ul></li><li><span><a href=\"#Leetcode-top-:-Binary-search\" data-toc-modified-id=\"Leetcode-top-:-Binary-search-2\"><span class=\"toc-item-num\">2&nbsp;&nbsp;</span>Leetcode top : Binary search</a></span><ul class=\"toc-item\"><li><span><a href=\"#Basic-Easy---leetcode---&gt;-recursion-and-loop-methods-both-and-python-method\" data-toc-modified-id=\"Basic-Easy---leetcode--->-recursion-and-loop-methods-both-and-python-method-2.1\"><span class=\"toc-item-num\">2.1&nbsp;&nbsp;</span>Basic Easy - leetcode --&gt; recursion and loop methods both and python method</a></span><ul class=\"toc-item\"><li><span><a href=\"#recursion-method\" data-toc-modified-id=\"recursion-method-2.1.1\"><span class=\"toc-item-num\">2.1.1&nbsp;&nbsp;</span>recursion method</a></span></li><li><span><a href=\"#loop-method\" data-toc-modified-id=\"loop-method-2.1.2\"><span class=\"toc-item-num\">2.1.2&nbsp;&nbsp;</span>loop method</a></span></li><li><span><a href=\"#using-simply-python-method\" data-toc-modified-id=\"using-simply-python-method-2.1.3\"><span class=\"toc-item-num\">2.1.3&nbsp;&nbsp;</span>using simply python method</a></span></li></ul></li><li><span><a href=\"#Template-1\" data-toc-modified-id=\"Template-1-2.2\"><span class=\"toc-item-num\">2.2&nbsp;&nbsp;</span>Template 1</a></span><ul class=\"toc-item\"><li><span><a href=\"#easy-leetcode--Sqrt\" data-toc-modified-id=\"easy-leetcode--Sqrt-2.2.1\"><span class=\"toc-item-num\">2.2.1&nbsp;&nbsp;</span>easy leetcode  Sqrt</a></span></li><li><span><a href=\"#374.-Guess-Number-Higher-or-Lower\" data-toc-modified-id=\"374.-Guess-Number-Higher-or-Lower-2.2.2\"><span class=\"toc-item-num\">2.2.2&nbsp;&nbsp;</span>374. Guess Number Higher or Lower</a></span></li><li><span><a href=\"#med--leetcode-153.-Find-Minimum-in-Rotated-Sorted-Array\" data-toc-modified-id=\"med--leetcode-153.-Find-Minimum-in-Rotated-Sorted-Array-2.2.3\"><span class=\"toc-item-num\">2.2.3&nbsp;&nbsp;</span>med- leetcode 153. Find Minimum in Rotated Sorted Array</a></span></li><li><span><a href=\"#med--leetcode--33.-Search-in-Rotated-Sorted-Array\" data-toc-modified-id=\"med--leetcode--33.-Search-in-Rotated-Sorted-Array-2.2.4\"><span class=\"toc-item-num\">2.2.4&nbsp;&nbsp;</span>med -leetcode  33. Search in Rotated Sorted Array</a></span></li></ul></li><li><span><a href=\"#Leetcode-Template-2\" data-toc-modified-id=\"Leetcode-Template-2-2.3\"><span class=\"toc-item-num\">2.3&nbsp;&nbsp;</span>Leetcode Template 2</a></span><ul class=\"toc-item\"><li><span><a href=\"#먼저-리스트에서-타겟이-처음-나온-인덱스-찾기---&gt;-278-First-Bad-version--의-설명-참고-할것.-똑같은-거다.\" data-toc-modified-id=\"먼저-리스트에서-타겟이-처음-나온-인덱스-찾기--->-278-First-Bad-version--의-설명-참고-할것.-똑같은-거다.-2.3.1\"><span class=\"toc-item-num\">2.3.1&nbsp;&nbsp;</span>먼저 리스트에서 타겟이 처음 나온 인덱스 찾기 --&gt; 278 First Bad version  의 설명 참고 할것. 똑같은 거다.</a></span></li><li><span><a href=\"#이번에는-오른쪽으로-푸시-하는-방식으로-구현해보면.\" data-toc-modified-id=\"이번에는-오른쪽으로-푸시-하는-방식으로-구현해보면.-2.3.2\"><span class=\"toc-item-num\">2.3.2&nbsp;&nbsp;</span>이번에는 오른쪽으로 푸시 하는 방식으로 구현해보면.</a></span></li><li><span><a href=\"#Easy---278.-First-Bad-Version\" data-toc-modified-id=\"Easy---278.-First-Bad-Version-2.3.3\"><span class=\"toc-item-num\">2.3.3&nbsp;&nbsp;</span>Easy - 278. First Bad Version</a></span></li><li><span><a href=\"#Med---162.-Find-Peak-Element\" data-toc-modified-id=\"Med---162.-Find-Peak-Element-2.3.4\"><span class=\"toc-item-num\">2.3.4&nbsp;&nbsp;</span>Med - 162. Find Peak Element</a></span></li></ul></li></ul></li><li><span><a href=\"#Template-3\" data-toc-modified-id=\"Template-3-3\"><span class=\"toc-item-num\">3&nbsp;&nbsp;</span>Template 3</a></span><ul class=\"toc-item\"><li><span><a href=\"#Med---&gt;-Search-for-a-Range--==&gt;-34.-Find-First-and-Last-Position-of-Element-in-Sorted-Array\" data-toc-modified-id=\"Med--->-Search-for-a-Range--==>-34.-Find-First-and-Last-Position-of-Element-in-Sorted-Array-3.1\"><span class=\"toc-item-num\">3.1&nbsp;&nbsp;</span>Med --&gt; Search for a Range  ==&gt; 34. Find First and Last Position of Element in Sorted Array</a></span><ul class=\"toc-item\"><li><span><a href=\"#리스트에서-타겟이-마지막-나온-인덱스-찾기\" data-toc-modified-id=\"리스트에서-타겟이-마지막-나온-인덱스-찾기-3.1.1\"><span class=\"toc-item-num\">3.1.1&nbsp;&nbsp;</span>리스트에서 타겟이 마지막 나온 인덱스 찾기</a></span></li><li><span><a href=\"#거꾸로-오른쪽을-푸시하면\" data-toc-modified-id=\"거꾸로-오른쪽을-푸시하면-3.1.2\"><span class=\"toc-item-num\">3.1.2&nbsp;&nbsp;</span>거꾸로 오른쪽을 푸시하면</a></span></li></ul></li><li><span><a href=\"#med---&gt;-658.-Find-K-Closest-Elements\" data-toc-modified-id=\"med--->-658.-Find-K-Closest-Elements-3.2\"><span class=\"toc-item-num\">3.2&nbsp;&nbsp;</span>med --&gt; 658. Find K Closest Elements</a></span></li></ul></li><li><span><a href=\"#367.-Valid-Perfect-Square\" data-toc-modified-id=\"367.-Valid-Perfect-Square-4\"><span class=\"toc-item-num\">4&nbsp;&nbsp;</span>367. Valid Perfect Square</a></span></li><li><span><a href=\"#Hard-154.-Find-Minimum-in-Rotated-Sorted-Array-II\" data-toc-modified-id=\"Hard-154.-Find-Minimum-in-Rotated-Sorted-Array-II-5\"><span class=\"toc-item-num\">5&nbsp;&nbsp;</span>Hard 154. Find Minimum in Rotated Sorted Array II</a></span></li><li><span><a href=\"#Easy---leetcode---&gt;-compare-it-with-two-pointer-method\" data-toc-modified-id=\"Easy---leetcode--->-compare-it-with-two-pointer-method-6\"><span class=\"toc-item-num\">6&nbsp;&nbsp;</span>Easy - leetcode --&gt; compare it with two pointer method</a></span></li></ul></div>"
   ]
  },
  {
   "cell_type": "markdown",
   "metadata": {},
   "source": [
    "# Interactive python basic \n",
    "타겟이 있는지 없는지만 찾으니까 제일 간단한 형태.  \n",
    "다음 문제에서 타겟의 인덳스를 보내는걸 해 본다.   \n",
    "http://interactivepython.org/runestone/static/pythonds/SortSearch/TheBinarySearch.html"
   ]
  },
  {
   "cell_type": "markdown",
   "metadata": {},
   "source": [
    "## while loop"
   ]
  },
  {
   "cell_type": "code",
   "execution_count": 5,
   "metadata": {
    "ExecuteTime": {
     "end_time": "2019-03-29T14:59:00.868613Z",
     "start_time": "2019-03-29T14:59:00.861432Z"
    }
   },
   "outputs": [
    {
     "name": "stdout",
     "output_type": "stream",
     "text": [
      "##########\n",
      "0\n",
      "4\n",
      "8\n",
      "##########\n",
      "0\n",
      "1\n",
      "3\n",
      "##########\n",
      "2\n",
      "2\n",
      "3\n",
      "##########\n",
      "3\n",
      "3\n",
      "3\n",
      "True\n"
     ]
    }
   ],
   "source": [
    "## from book using while\n",
    "def binarySearch(alist, item):\n",
    "    first = 0\n",
    "    last = len(alist)-1\n",
    "    found = False\n",
    "\n",
    "    while first<=last and not found:  # == is also included.\n",
    "        midpoint = (first + last)//2\n",
    "        print(\"#\" * 10)\n",
    "        print(first)\n",
    "        print(midpoint)\n",
    "        print(last)\n",
    "        if alist[midpoint] == item:\n",
    "            found = True\n",
    "        else:\n",
    "            if item < alist[midpoint]:\n",
    "                last = midpoint-1\n",
    "            else:\n",
    "                first = midpoint+1\n",
    "\n",
    "    return found\n",
    "\n",
    "testlist = [0, 1, 2, 8, 13, 17, 19, 32, 42,]\n",
    "print(binarySearch(testlist, 8))\n",
    "#print(binarySearch(testlist, 13))"
   ]
  },
  {
   "cell_type": "markdown",
   "metadata": {},
   "source": [
    "## Recursion"
   ]
  },
  {
   "cell_type": "code",
   "execution_count": 7,
   "metadata": {
    "ExecuteTime": {
     "end_time": "2019-03-29T15:11:28.235071Z",
     "start_time": "2019-03-29T15:11:28.223837Z"
    }
   },
   "outputs": [
    {
     "name": "stdout",
     "output_type": "stream",
     "text": [
      "True\n"
     ]
    }
   ],
   "source": [
    "def binarySearch(alist, item):\n",
    "    if len(alist) == 0:\n",
    "        return False\n",
    "\n",
    "    midpoint = len(alist)//2\n",
    "    \n",
    "    if item < alist[midpoint]:\n",
    "        return binarySearch(alist[:midpoint], item) # 조심\n",
    "    elif item > alist[midpoint]:\n",
    "        return binarySearch(alist[midpoint+1:], item)\n",
    "    else:\n",
    "        return True\n",
    "    \n",
    "    \n",
    "testlist = [0, 1, 2, 8, 13, 17, 19, 32, 42,]\n",
    "print(binarySearch(testlist, 8))\n",
    "#print(binarySearch(testlist, 13))"
   ]
  },
  {
   "cell_type": "markdown",
   "metadata": {},
   "source": [
    "# Leetcode top : Binary search\n",
    "https://leetcode.com/explore/learn/card/binary-search/"
   ]
  },
  {
   "cell_type": "markdown",
   "metadata": {},
   "source": [
    "##  Basic Easy - leetcode --> recursion and loop methods both and python method\n",
    "\n",
    "- 이제 있는지 없는지 뿐만 아니라 그 인덱스 값을 보내 줘야 된다.  \n",
    "\n",
    "\n",
    "https://leetcode.com/explore/learn/card/binary-search/138/background/1038/\n"
   ]
  },
  {
   "cell_type": "markdown",
   "metadata": {},
   "source": [
    "###  recursion method"
   ]
  },
  {
   "cell_type": "code",
   "execution_count": 10,
   "metadata": {
    "ExecuteTime": {
     "end_time": "2019-03-29T15:22:45.671712Z",
     "start_time": "2019-03-29T15:22:45.654287Z"
    }
   },
   "outputs": [
    {
     "name": "stdout",
     "output_type": "stream",
     "text": [
      "-1\n"
     ]
    }
   ],
   "source": [
    "class Solution(object):\n",
    "\n",
    "    def search(self, nums, target):\n",
    "        \"\"\"\n",
    "        :type nums: List[int]\n",
    "        :type target: int\n",
    "        :rtype: int\n",
    "        \"\"\"\n",
    "        low = 0\n",
    "        high = len(nums) - 1\n",
    "        mid = (low + high)//2\n",
    "        \n",
    "        if target not in nums:\n",
    "            return -1\n",
    "        if nums[mid] == target:\n",
    "            return mid\n",
    "        if nums[mid] < target: # 인덱스 값을 유지하기 위해 이경우 mid + 1을 더해 줘야 된다.\n",
    "            return mid + 1 + self.search(nums[mid+1:], target)\n",
    "        else: # list 의 앞부분이므로 인덱스 값에 변화 없다.\n",
    "            return self.search(nums[:mid], target)\n",
    "        \n",
    "\n",
    "nums = [-1,0,5]\n",
    "target = 1\n",
    "sol = Solution()\n",
    "print(sol.search(nums, target))"
   ]
  },
  {
   "cell_type": "markdown",
   "metadata": {},
   "source": [
    "### loop method"
   ]
  },
  {
   "cell_type": "code",
   "execution_count": 13,
   "metadata": {
    "ExecuteTime": {
     "end_time": "2019-03-29T15:23:37.154462Z",
     "start_time": "2019-03-29T15:23:37.142785Z"
    }
   },
   "outputs": [
    {
     "name": "stdout",
     "output_type": "stream",
     "text": [
      "1\n"
     ]
    }
   ],
   "source": [
    "class Solution(object):\n",
    "\n",
    "    def search(self, nums, target):\n",
    "        \"\"\"\n",
    "        :type nums: List[int]\n",
    "        :type target: int\n",
    "        :rtype: int\n",
    "        \"\"\"\n",
    "        # 1. python way\n",
    "        # if target in nums:\n",
    "        #     return nums.index(target)\n",
    "        # else:\n",
    "        #     return -1 \n",
    "        \n",
    "        # 2. recursion method\n",
    "        # low = 0\n",
    "        # high = len(nums) - 1\n",
    "        # mid = (low + high)//2\n",
    "        \n",
    "        # if target not in nums:\n",
    "        #     return -1\n",
    "        # if nums[mid] == target:\n",
    "        #     return mid\n",
    "        # if nums[mid] < target:\n",
    "        #     return mid + 1 + self.search(nums[mid+1:], target)\n",
    "        # else:\n",
    "        #     return self.search(nums[:mid], target)\n",
    "        \n",
    "        # 3. loop method\n",
    "        first = 0\n",
    "        last = len(nums) - 1\n",
    "        found = False\n",
    "\n",
    "        while first <= last and not found:\n",
    "            midpoint = (first + last) // 2\n",
    "            if nums[midpoint] == target:\n",
    "                return midpoint\n",
    "            else:\n",
    "                if target < nums[midpoint]:\n",
    "                    last = midpoint - 1\n",
    "                else:\n",
    "                    first = midpoint + 1\n",
    "\n",
    "        return -1\n",
    "    \n",
    "\n",
    "nums = [-1,0,5]\n",
    "target = 0\n",
    "sol = Solution()\n",
    "print(sol.search(nums, target))"
   ]
  },
  {
   "cell_type": "code",
   "execution_count": null,
   "metadata": {},
   "outputs": [],
   "source": []
  },
  {
   "cell_type": "markdown",
   "metadata": {},
   "source": [
    "### using simply python method"
   ]
  },
  {
   "cell_type": "code",
   "execution_count": null,
   "metadata": {},
   "outputs": [],
   "source": [
    "class Solution(object):\n",
    "    def search(self, nums, target):\n",
    "        \"\"\"\n",
    "        :type nums: List[int]\n",
    "        :type target: int\n",
    "        :rtype: int\n",
    "        \"\"\"\n",
    "        if target in nums:\n",
    "            return nums.index(target)\n",
    "        else:\n",
    "            return -1\n",
    "        "
   ]
  },
  {
   "cell_type": "markdown",
   "metadata": {},
   "source": [
    "## Template 1"
   ]
  },
  {
   "cell_type": "markdown",
   "metadata": {},
   "source": [
    "###  easy leetcode  Sqrt\n",
    "\n",
    "https://leetcode.com/explore/learn/card/binary-search/125/template-i/950/\n",
    "\n"
   ]
  },
  {
   "cell_type": "code",
   "execution_count": 1,
   "metadata": {
    "ExecuteTime": {
     "end_time": "2019-04-06T15:47:33.482497Z",
     "start_time": "2019-04-06T15:47:33.438956Z"
    }
   },
   "outputs": [
    {
     "name": "stdout",
     "output_type": "stream",
     "text": [
      "2\n"
     ]
    }
   ],
   "source": [
    "# https://leetcode.com/explore/learn/card/binary-search/125/template-i/950/\n",
    "\n",
    "# https://leetcode.com/problems/sqrtx/\n",
    "\n",
    "class Solution(object):\n",
    "    def mySqrt(self, x):\n",
    "        \"\"\"\n",
    "        :type x: int\n",
    "        :rtype: int\n",
    "        \"\"\"\n",
    "        lo = 0\n",
    "        hi = x\n",
    "\n",
    "        found = False\n",
    "        while lo <= hi and not found:\n",
    "            mid = (lo + hi) // 2\n",
    "\n",
    "            if mid **2 <= x <  (mid + 1) **2:\n",
    "                found = True\n",
    "                return mid\n",
    "\n",
    "            if x >= (mid + 1) ** 2:\n",
    "                lo = mid + 1\n",
    "\n",
    "            else:\n",
    "                hi = mid - 1\n",
    "\n",
    "\n",
    "        \n",
    "\n",
    "\n",
    "sol = Solution()\n",
    "x = 8\n",
    "\n",
    "print(sol.mySqrt(x))"
   ]
  },
  {
   "cell_type": "markdown",
   "metadata": {},
   "source": [
    "### 374. Guess Number Higher or Lower\n",
    "https://leetcode.com/explore/learn/card/binary-search/125/template-i/951/\n",
    "\n",
    "https://leetcode.com/problems/guess-number-higher-or-lower/"
   ]
  },
  {
   "cell_type": "code",
   "execution_count": 1,
   "metadata": {
    "ExecuteTime": {
     "end_time": "2019-04-06T20:00:22.993825Z",
     "start_time": "2019-04-06T20:00:22.936087Z"
    }
   },
   "outputs": [],
   "source": [
    "# The guess API is already defined for you.\n",
    "# @param num, your guess\n",
    "# @return -1 if my number is lower, 1 if my number is higher, otherwise return 0\n",
    "# def guess(num):\n",
    "\n",
    "class Solution(object):\n",
    "    def guessNumber(self, n):\n",
    "        \"\"\"\n",
    "        :type n: int\n",
    "        :rtype: int\n",
    "        \"\"\"\n",
    "        low = 1\n",
    "        high = n\n",
    "        while low <= high :\n",
    "            mid = (low + high)//2\n",
    "            res = guess(mid)\n",
    "            if res==0:\n",
    "                return mid\n",
    "            elif res < 0:\n",
    "                high = mid -1\n",
    "            else:\n",
    "                low = mid + 1"
   ]
  },
  {
   "cell_type": "markdown",
   "metadata": {},
   "source": [
    "<img src=\"https://www.evernote.com/l/AAnLZgpeGhpL9J6ypEb_aFspT0Bt8DkWi14B/image.png\" alt=\"Guess%20Number%20Higher%20or%20Lower%20-%20LeetCode\" />"
   ]
  },
  {
   "cell_type": "markdown",
   "metadata": {},
   "source": [
    "###  med- leetcode 153. Find Minimum in Rotated Sorted Array\n",
    "\n",
    "https://leetcode.com/explore/learn/card/binary-search/144/more-practices/1033/\n",
    "\n",
    "https://leetcode.com/problems/find-minimum-in-rotated-sorted-array/\n",
    "\n",
    "Solution 의 binary search 설명"
   ]
  },
  {
   "cell_type": "code",
   "execution_count": 1,
   "metadata": {
    "ExecuteTime": {
     "end_time": "2019-06-01T19:27:59.779173Z",
     "start_time": "2019-06-01T19:27:59.746600Z"
    }
   },
   "outputs": [
    {
     "name": "stdout",
     "output_type": "stream",
     "text": [
      "3\n"
     ]
    }
   ],
   "source": [
    "import pdb\n",
    "\n",
    "class Solution(object):\n",
    "    def findMin(self, nums):\n",
    "        \"\"\"\n",
    "        :type nums: List[int]\n",
    "        :rtype: int\n",
    "        \"\"\"\n",
    "        low = 0\n",
    "        high = len(nums)-1\n",
    "\n",
    "        #pdb.set_trace()\n",
    "        while low < high:\n",
    "            mid = (low + high) // 2\n",
    "            # version 1\n",
    "            if nums[mid] > nums[high]:\n",
    "                low = mid + 1\n",
    "            else:\n",
    "                high = mid\n",
    "            # version 2\n",
    "#             if nums[mid] < nums[high]:\n",
    "#                 high = mid\n",
    "#             else: \n",
    "#                 low = mid +1\n",
    "#             # version 3\n",
    "    \n",
    "\n",
    "        return nums[low]\n",
    "\n",
    "\n",
    "\n",
    "sol = Solution()\n",
    "inp = [4,5,  3]\n",
    "\n",
    "print(sol.findMin(inp))"
   ]
  },
  {
   "cell_type": "code",
   "execution_count": null,
   "metadata": {},
   "outputs": [],
   "source": []
  },
  {
   "cell_type": "markdown",
   "metadata": {},
   "source": [
    "### med -leetcode  33. Search in Rotated Sorted Array\n",
    "https://leetcode.com/explore/learn/card/binary-search/125/template-i/952/\n",
    "\n",
    "https://leetcode.com/problems/search-in-rotated-sorted-array/  \n",
    "\n",
    "\n",
    "Suppose an array sorted in ascending order is rotated at some pivot unknown to you beforehand.  \n",
    "\n",
    "(i.e., [0,1,2,4,5,6,7] might become [4,5,6,7,0,1,2]).  \n",
    "\n",
    "You are given a target value to search. If found in the array return its index, otherwise return -1. \n",
    "\n",
    "You may assume no duplicate exists in the array.  \n",
    "\n",
    "Your algorithm's runtime complexity must be in the order of O(log n).\n",
    "\n",
    "Example 1:\n",
    "\n",
    "Input: nums = [4,5,6,7,0,1,2], target = 0  \n",
    "Output: 4 \n",
    "\n",
    "\n",
    "Example 2:  \n",
    "\n",
    "Input: nums = [4,5,6,7,0,1,2], target = 3  \n",
    "Output: -1  \n"
   ]
  },
  {
   "cell_type": "code",
   "execution_count": 3,
   "metadata": {
    "ExecuteTime": {
     "end_time": "2019-04-07T19:07:28.899097Z",
     "start_time": "2019-04-07T19:07:28.875894Z"
    }
   },
   "outputs": [
    {
     "name": "stdout",
     "output_type": "stream",
     "text": [
      "4\n"
     ]
    }
   ],
   "source": [
    "class Solution(object):\n",
    "    def search(self, nums, target):\n",
    "        \"\"\"\n",
    "        :type nums: List[int]\n",
    "        :type target: int\n",
    "        :rtype: int\n",
    "        \"\"\"\n",
    "        # find the smallest \n",
    "        # how to find the smallest using binary search in \"rotated sorted list\"\n",
    "        # [ 2, 3, 4, 5, 0, 1]\n",
    "        # [ 4, 5, 0, 1, 2, 3]\n",
    "\n",
    "        low = 0\n",
    "        high = len(nums) - 1\n",
    "        \n",
    "        while low < high:\n",
    "            \n",
    "            mid = (low + high) // 2\n",
    "            if nums[mid] > nums[high]:\n",
    "                low = mid + 1\n",
    "            else:\n",
    "                high = mid \n",
    "        idx_of_min = low\n",
    "        # if imagine [0, 1, 2, 3, 4, 5]\n",
    "        # its index : 2, 3, 4, 5, 0, 1\n",
    "        # comparing : 0, 1, 2, 3, 4, 5  # that is , each idx + 2 if  it >  length-1 then (idx+2)%length\n",
    "\n",
    "        def find_real_idx(idx, idx_of_min, length):\n",
    "            return (idx + idx_of_min) % length \n",
    "\n",
    "        # now find the target index. assuming that the list is normal sorted.\n",
    "        nums = nums[idx_of_min:] + nums[:idx_of_min]\n",
    "        low = 0\n",
    "        high = len(nums) - 1\n",
    "        while low <= high:\n",
    "            mid = (low + high) //2\n",
    "            if nums[mid] < target:\n",
    "                low = mid + 1\n",
    "            elif nums[mid] > target:\n",
    "                high = mid -1\n",
    "            else:\n",
    "                return find_real_idx(mid, idx_of_min, len(nums))\n",
    "        return -1\n",
    "\n",
    "sol = Solution()\n",
    "nums = [4,5,6,7,0,1,2]\n",
    "target = 0\n",
    "\n",
    "print(sol.search(nums, target))\n"
   ]
  },
  {
   "cell_type": "markdown",
   "metadata": {},
   "source": [
    "## Leetcode Template 2\n",
    "\n"
   ]
  },
  {
   "cell_type": "markdown",
   "metadata": {},
   "source": [
    "### 먼저 리스트에서 타겟이 처음 나온 인덱스 찾기 --> 278 First Bad version  의 설명 참고 할것. 똑같은 거다."
   ]
  },
  {
   "cell_type": "code",
   "execution_count": 37,
   "metadata": {
    "ExecuteTime": {
     "end_time": "2019-04-08T18:18:29.684382Z",
     "start_time": "2019-04-08T18:18:29.675005Z"
    }
   },
   "outputs": [
    {
     "name": "stdout",
     "output_type": "stream",
     "text": [
      "0\n"
     ]
    }
   ],
   "source": [
    "def find_first_occur(nums , target):\n",
    "    low = 0\n",
    "    high = len(nums) - 1\n",
    "    \n",
    "    while low < high:\n",
    "        mid = (low + high) // 2\n",
    "        if nums[mid] < target:\n",
    "            low = mid + 1\n",
    "        else:\n",
    "            high = mid\n",
    "    return low\n",
    "\n",
    "nums = [5, 7, 7, 8, 8, 10]\n",
    "print(find_first_occur(nums, 5))"
   ]
  },
  {
   "cell_type": "markdown",
   "metadata": {},
   "source": [
    "<img src=\"https://www.evernote.com/l/AAkg_XVIqAVJFalHatFxW6brO-xewV46t38B/image.png\" alt=\"0-2%20binary%20search\" />"
   ]
  },
  {
   "cell_type": "code",
   "execution_count": 6,
   "metadata": {
    "ExecuteTime": {
     "end_time": "2019-04-24T20:50:51.876019Z",
     "start_time": "2019-04-24T20:50:51.867609Z"
    }
   },
   "outputs": [
    {
     "name": "stdout",
     "output_type": "stream",
     "text": [
      "3\n"
     ]
    }
   ],
   "source": [
    "def find_first_occur(nums , target):\n",
    "    low = 0\n",
    "    high = len(nums) - 1\n",
    "    \n",
    "    while low < high:\n",
    "        mid = (low + high) // 2\n",
    "        if nums[mid] < target:\n",
    "            low = mid + 1\n",
    "        else:\n",
    "            high = mid\n",
    "    return low\n",
    "\n",
    "nums = [5, 7, 7, 8, 8, 10]\n",
    "print(find_first_occur(nums, 8))"
   ]
  },
  {
   "cell_type": "markdown",
   "metadata": {},
   "source": [
    "<img src=\"https://www.evernote.com/l/AAn3_m2wNMVFlbYitdB7vwJBCVUbSbS5MGAB/image.png\" alt=\"Visualize%20Python,%20Java,%20JavaScript,%20C,%20C++,%20Ruby%20code%20execution\" />\n",
    "\n",
    "\n",
    "http://www.pythontutor.com/visualize.html#code=def%20find_first_occur%28nums%20,%20target%29%3A%0A%20%20%20%20low%20%3D%200%0A%20%20%20%20high%20%3D%20len%28nums%29%20-%201%0A%20%20%20%20%0A%20%20%20%20while%20low%20%3C%20high%3A%0A%20%20%20%20%20%20%20%20mid%20%3D%20%28low%20%2B%20high%29%20//%202%0A%20%20%20%20%20%20%20%20if%20nums%5Bmid%5D%20%3C%20target%3A%0A%20%20%20%20%20%20%20%20%20%20%20%20low%20%3D%20mid%20%2B%201%0A%20%20%20%20%20%20%20%20else%3A%0A%20%20%20%20%20%20%20%20%20%20%20%20high%20%3D%20mid%0A%20%20%20%20return%20low%0A%0Anums%20%3D%20%5B5,%207,%207,%208,%208,%2010%5D%0Aprint%28find_first_occur%28nums,%208%29%29&cumulative=false&curInstr=16&heapPrimitives=nevernest&mode=display&origin=opt-frontend.js&py=2&rawInputLstJSON=%5B%5D&textReferences=false"
   ]
  },
  {
   "cell_type": "markdown",
   "metadata": {},
   "source": [
    "### 이번에는 오른쪽으로 푸시 하는 방식으로 구현해보면.\n",
    "\n",
    "template 3 에서 결과를 -1 했던것처럼 여기서는 +1 해줘야된다."
   ]
  },
  {
   "cell_type": "code",
   "execution_count": 1,
   "metadata": {
    "ExecuteTime": {
     "end_time": "2019-05-18T19:18:38.649504Z",
     "start_time": "2019-05-18T19:18:38.635140Z"
    }
   },
   "outputs": [
    {
     "name": "stdout",
     "output_type": "stream",
     "text": [
      "3\n"
     ]
    }
   ],
   "source": [
    "def find_first_occur(nums , target):\n",
    "    low = 0\n",
    "    high = len(nums) - 1\n",
    "    \n",
    "    while low < high:\n",
    "        mid = (low + high) // 2\n",
    "        if nums[mid] < target:\n",
    "            low = mid\n",
    "        else:\n",
    "            high = mid - 1\n",
    "    return low \n",
    "\n",
    "nums = [5, 7, 7, 8, 8, 10]\n",
    "print(find_first_occur(nums, 8))"
   ]
  },
  {
   "cell_type": "markdown",
   "metadata": {},
   "source": [
    "### Easy - 278. First Bad Version\n",
    "\n",
    "https://leetcode.com/explore/learn/card/binary-search/126/template-ii/947/\n",
    "\n",
    "\n",
    "https://leetcode.com/problems/first-bad-version/"
   ]
  },
  {
   "cell_type": "code",
   "execution_count": 4,
   "metadata": {
    "ExecuteTime": {
     "end_time": "2019-04-07T19:07:34.966191Z",
     "start_time": "2019-04-07T19:07:34.952574Z"
    }
   },
   "outputs": [
    {
     "name": "stdout",
     "output_type": "stream",
     "text": [
      "4\n"
     ]
    }
   ],
   "source": [
    "# The isBadVersion API is already defined for you.\n",
    "# @param version, an integer\n",
    "# @return a bool\n",
    "def isBadVersion(version):\n",
    "    if version<4:\n",
    "        return False\n",
    "    else:\n",
    "        return True\n",
    "\n",
    "class Solution(object):\n",
    "    def firstBadVersion(self, n):\n",
    "        \"\"\"\n",
    "        :type n: int\n",
    "        :rtype: int\n",
    "        \"\"\"\n",
    "        low = 0\n",
    "        high = n\n",
    "\n",
    "        while low < high:\n",
    "            mid = (low + high) // 2\n",
    "            res = isBadVersion(mid)\n",
    "            if not res:\n",
    "                low = mid + 1\n",
    "            else:\n",
    "                high = mid\n",
    "            \n",
    "        return low\n",
    "\n",
    "print(Solution().firstBadVersion(5))"
   ]
  },
  {
   "cell_type": "markdown",
   "metadata": {},
   "source": [
    "<img src=\"https://www.evernote.com/l/AAmVDFOzfaVC8YiNq0cmzn0Vsf-gNH2LmEgB/image.png\" alt=\"Cursor%20and%20First%20Bad%20Version%20-%20LeetCode\" />"
   ]
  },
  {
   "cell_type": "markdown",
   "metadata": {},
   "source": [
    "### Med - 162. Find Peak Element\n",
    "https://leetcode.com/explore/learn/card/binary-search/126/template-ii/948/\n",
    "\n",
    "\n",
    "https://leetcode.com/problems/find-peak-element/"
   ]
  },
  {
   "cell_type": "code",
   "execution_count": 3,
   "metadata": {
    "ExecuteTime": {
     "end_time": "2019-05-18T20:35:20.517377Z",
     "start_time": "2019-05-18T20:35:20.507033Z"
    }
   },
   "outputs": [
    {
     "name": "stdout",
     "output_type": "stream",
     "text": [
      "6\n"
     ]
    }
   ],
   "source": [
    "import pdb\n",
    "class Solution(object):\n",
    "    def findPeakElement(self, nums):\n",
    "        \"\"\"\n",
    "        :type nums: List[int]\n",
    "        :rtype: int\n",
    "        \"\"\"\n",
    "#        pdb.set_trace()\n",
    "        low = 0\n",
    "        high = len(nums) -1\n",
    "\n",
    "        while low < high:\n",
    "            mid = (low + high) // 2\n",
    "\n",
    "            \n",
    "        # version 1 : 이것도 맞다.\n",
    "#             if nums[mid] > nums[mid + 1]:\n",
    "#                 high = mid\n",
    "#             else:\n",
    "#                 low = mid + 1\n",
    "        # version 2:  이것도 맞다. --> == 이 어디에 같이 트릿 되는지가 중요한게 \n",
    "    # 아니라, high = mid인 부분이 이것을 찾게 해 준다.?\n",
    "            if nums[mid] < nums[mid + 1]:\n",
    "                low = mid + 1\n",
    "            else:\n",
    "                high = mid\n",
    "        return low\n",
    "\n",
    "\n",
    "\n",
    "\n",
    "nums = [1,2,1,3,5,6,7,4]\n",
    "print(Solution().findPeakElement(nums))"
   ]
  },
  {
   "cell_type": "markdown",
   "metadata": {},
   "source": [
    "<img src=\"https://www.evernote.com/l/AAnxfts9iphE964Dr-IXZNt4i25N5EQSSnoB/image.png\" alt=\"Cursor%20and%20Find%20Peak%20Element%20-%20LeetCode\" />"
   ]
  },
  {
   "cell_type": "markdown",
   "metadata": {},
   "source": [
    "http://www.pythontutor.com/visualize.html#code=class%20Solution%28object%29%3A%0A%20%20%20%20def%20findPeakElement%28self,%20nums%29%3A%0A%20%20%20%20%20%20%20%20%22%22%22%0A%20%20%20%20%20%20%20%20%3Atype%20nums%3A%20List%5Bint%5D%0A%20%20%20%20%20%20%20%20%3Artype%3A%20int%0A%20%20%20%20%20%20%20%20%22%22%22%0A%20%20%20%20%20%20%20%20low%20%3D%200%0A%20%20%20%20%20%20%20%20high%20%3D%20len%28nums%29%20-1%0A%0A%20%20%20%20%20%20%20%20while%20low%20%3C%20high%3A%0A%20%20%20%20%20%20%20%20%20%20%20%20mid%20%3D%20%28low%20%2B%20high%29%20//%202%0A%0A%20%20%20%20%20%20%20%20%20%20%20%20%0A%20%20%20%20%20%20%20%20%23%20version%201%20%3A%20%EC%9D%B4%EA%B2%83%EB%8F%84%20%EB%A7%9E%EB%8B%A4.%0A%23%20%20%20%20%20%20%20%20%20%20%20%20%20if%20nums%5Bmid%5D%20%3E%20nums%5Bmid%20%2B%201%5D%3A%0A%23%20%20%20%20%20%20%20%20%20%20%20%20%20%20%20%20%20high%20%3D%20mid%0A%23%20%20%20%20%20%20%20%20%20%20%20%20%20else%3A%0A%23%20%20%20%20%20%20%20%20%20%20%20%20%20%20%20%20%20low%20%3D%20mid%20%2B%201%0A%20%20%20%20%20%20%20%20%23%20version%202%3A%20%20%EC%9D%B4%EA%B2%83%EB%8F%84%20%EB%A7%9E%EB%8B%A4.%20--%3E%20%3D%3D%20%EC%9D%B4%20%EC%96%B4%EB%94%94%EC%97%90%20%EA%B0%99%EC%9D%B4%20%ED%8A%B8%EB%A6%BF%20%EB%90%98%EB%8A%94%EC%A7%80%EA%B0%80%20%EC%A4%91%EC%9A%94%ED%95%9C%EA%B2%8C%20%0A%20%20%20%20%23%20%EC%95%84%EB%8B%88%EB%9D%BC,%20high%20%3D%20mid%EC%9D%B8%20%EB%B6%80%EB%B6%84%EC%9D%B4%20%EC%9D%B4%EA%B2%83%EC%9D%84%20%EC%B0%BE%EA%B2%8C%20%ED%95%B4%20%EC%A4%80%EB%8B%A4.%3F%0A%20%20%20%20%20%20%20%20%20%20%20%20if%20nums%5Bmid%5D%20%3C%20nums%5Bmid%20%2B%201%5D%3A%0A%20%20%20%20%20%20%20%20%20%20%20%20%20%20%20%20low%20%3D%20mid%20%2B%201%0A%20%20%20%20%20%20%20%20%20%20%20%20else%3A%0A%20%20%20%20%20%20%20%20%20%20%20%20%20%20%20%20high%20%3D%20mid%0A%20%20%20%20%20%20%20%20return%20low%0A%0A%0A%0A%0Anums%20%3D%20%5B1,2,1,3,5,6,7,4%5D%0Aprint%28Solution%28%29.findPeakElement%28nums%29%29&cumulative=false&curInstr=20&heapPrimitives=nevernest&mode=display&origin=opt-frontend.js&py=3&rawInputLstJSON=%5B%5D&textReferences=false"
   ]
  },
  {
   "cell_type": "markdown",
   "metadata": {},
   "source": [
    "# Template 3 "
   ]
  },
  {
   "cell_type": "markdown",
   "metadata": {},
   "source": [
    "## Med --> Search for a Range  ==> 34. Find First and Last Position of Element in Sorted Array\n",
    "\n",
    "https://leetcode.com/explore/learn/card/binary-search/135/template-iii/944/\n",
    "\n",
    "https://leetcode.com/problems/find-first-and-last-position-of-element-in-sorted-array/"
   ]
  },
  {
   "cell_type": "markdown",
   "metadata": {},
   "source": [
    "### 리스트에서 타겟이 마지막 나온 인덱스 찾기"
   ]
  },
  {
   "cell_type": "markdown",
   "metadata": {},
   "source": [
    "<img src=\"https://www.evernote.com/l/AAnK41UlvbVJnIW58KEB6Pl7yrNcR3HgmCIB/image.png\" alt=\"0-2%20binary%20search\" />"
   ]
  },
  {
   "cell_type": "code",
   "execution_count": 3,
   "metadata": {
    "ExecuteTime": {
     "end_time": "2019-04-24T20:44:51.717584Z",
     "start_time": "2019-04-24T20:43:37.524251Z"
    },
    "scrolled": false
   },
   "outputs": [
    {
     "name": "stdout",
     "output_type": "stream",
     "text": [
      "> <ipython-input-3-aaa4a15453c9>(9)find_last_occur()\n",
      "-> while low  < high :\n",
      "(Pdb) n\n",
      "> <ipython-input-3-aaa4a15453c9>(10)find_last_occur()\n",
      "-> mid = (low + high) // 2\n",
      "(Pdb) list\n",
      "  5  \t    high = len(nums) - 1\n",
      "  6  \t#     from IPython.core.debugger import Tracer\n",
      "  7  \t#     Tracer()()\n",
      "  8  \t    set_trace()\n",
      "  9  \t    while low  < high :\n",
      " 10  ->\t        mid = (low + high) // 2\n",
      " 11  \t        if nums[mid] > target:\n",
      " 12  \t            high = mid\n",
      " 13  \t        else:\n",
      " 14  \t            low = mid + 1\n",
      " 15  \t    return low - 1\n",
      "(Pdb) n\n",
      "> <ipython-input-3-aaa4a15453c9>(11)find_last_occur()\n",
      "-> if nums[mid] > target:\n",
      "(Pdb) n\n",
      "> <ipython-input-3-aaa4a15453c9>(14)find_last_occur()\n",
      "-> low = mid + 1\n",
      "(Pdb) low\n",
      "0\n",
      "(Pdb) pp mid\n",
      "2\n",
      "(Pdb) n\n",
      "> <ipython-input-3-aaa4a15453c9>(9)find_last_occur()\n",
      "-> while low  < high :\n",
      "(Pdb) b 10\n",
      "Breakpoint 1 at <ipython-input-3-aaa4a15453c9>:10\n",
      "(Pdb) jump 10\n",
      "> <ipython-input-3-aaa4a15453c9>(10)find_last_occur()\n",
      "-> mid = (low + high) // 2\n",
      "(Pdb) low\n",
      "3\n",
      "(Pdb) pp low\n",
      "3\n",
      "(Pdb) mid\n",
      "2\n",
      "(Pdb) high\n",
      "5\n",
      "(Pdb) n\n",
      "> <ipython-input-3-aaa4a15453c9>(11)find_last_occur()\n",
      "-> if nums[mid] > target:\n",
      "(Pdb) n\n",
      "> <ipython-input-3-aaa4a15453c9>(12)find_last_occur()\n",
      "-> high = mid\n",
      "(Pdb) n\n",
      "> <ipython-input-3-aaa4a15453c9>(9)find_last_occur()\n",
      "-> while low  < high :\n",
      "(Pdb) low \n",
      "3\n",
      "(Pdb) mid\n",
      "4\n",
      "(Pdb) high\n",
      "4\n",
      "(Pdb) n\n",
      "> <ipython-input-3-aaa4a15453c9>(10)find_last_occur()\n",
      "-> mid = (low + high) // 2\n",
      "(Pdb) n\n",
      "> <ipython-input-3-aaa4a15453c9>(11)find_last_occur()\n",
      "-> if nums[mid] > target:\n",
      "(Pdb) n\n",
      "> <ipython-input-3-aaa4a15453c9>(14)find_last_occur()\n",
      "-> low = mid + 1\n",
      "(Pdb) n\n",
      "> <ipython-input-3-aaa4a15453c9>(9)find_last_occur()\n",
      "-> while low  < high :\n",
      "(Pdb) q\n"
     ]
    },
    {
     "ename": "BdbQuit",
     "evalue": "",
     "output_type": "error",
     "traceback": [
      "\u001b[0;31m---------------------------------------------------------------------------\u001b[0m",
      "\u001b[0;31mBdbQuit\u001b[0m                                   Traceback (most recent call last)",
      "\u001b[0;32m<ipython-input-3-aaa4a15453c9>\u001b[0m in \u001b[0;36m<module>\u001b[0;34m\u001b[0m\n\u001b[1;32m     16\u001b[0m \u001b[0;34m\u001b[0m\u001b[0m\n\u001b[1;32m     17\u001b[0m \u001b[0mnums\u001b[0m \u001b[0;34m=\u001b[0m \u001b[0;34m[\u001b[0m\u001b[0;36m3\u001b[0m\u001b[0;34m,\u001b[0m \u001b[0;36m4\u001b[0m\u001b[0;34m,\u001b[0m \u001b[0;36m8\u001b[0m\u001b[0;34m,\u001b[0m \u001b[0;36m8\u001b[0m\u001b[0;34m,\u001b[0m \u001b[0;36m9\u001b[0m\u001b[0;34m,\u001b[0m \u001b[0;36m10\u001b[0m\u001b[0;34m]\u001b[0m\u001b[0;34m\u001b[0m\u001b[0m\n\u001b[0;32m---> 18\u001b[0;31m \u001b[0mprint\u001b[0m\u001b[0;34m(\u001b[0m\u001b[0mfind_last_occur\u001b[0m\u001b[0;34m(\u001b[0m\u001b[0mnums\u001b[0m\u001b[0;34m,\u001b[0m \u001b[0;36m8\u001b[0m\u001b[0;34m)\u001b[0m\u001b[0;34m)\u001b[0m\u001b[0;34m\u001b[0m\u001b[0m\n\u001b[0m",
      "\u001b[0;32m<ipython-input-3-aaa4a15453c9>\u001b[0m in \u001b[0;36mfind_last_occur\u001b[0;34m(nums, target)\u001b[0m\n\u001b[1;32m      7\u001b[0m \u001b[0;31m#     Tracer()()\u001b[0m\u001b[0;34m\u001b[0m\u001b[0;34m\u001b[0m\u001b[0m\n\u001b[1;32m      8\u001b[0m     \u001b[0mset_trace\u001b[0m\u001b[0;34m(\u001b[0m\u001b[0;34m)\u001b[0m\u001b[0;34m\u001b[0m\u001b[0m\n\u001b[0;32m----> 9\u001b[0;31m     \u001b[0;32mwhile\u001b[0m \u001b[0mlow\u001b[0m  \u001b[0;34m<\u001b[0m \u001b[0mhigh\u001b[0m \u001b[0;34m:\u001b[0m\u001b[0;34m\u001b[0m\u001b[0m\n\u001b[0m\u001b[1;32m     10\u001b[0m         \u001b[0mmid\u001b[0m \u001b[0;34m=\u001b[0m \u001b[0;34m(\u001b[0m\u001b[0mlow\u001b[0m \u001b[0;34m+\u001b[0m \u001b[0mhigh\u001b[0m\u001b[0;34m)\u001b[0m \u001b[0;34m//\u001b[0m \u001b[0;36m2\u001b[0m\u001b[0;34m\u001b[0m\u001b[0m\n\u001b[1;32m     11\u001b[0m         \u001b[0;32mif\u001b[0m \u001b[0mnums\u001b[0m\u001b[0;34m[\u001b[0m\u001b[0mmid\u001b[0m\u001b[0;34m]\u001b[0m \u001b[0;34m>\u001b[0m \u001b[0mtarget\u001b[0m\u001b[0;34m:\u001b[0m\u001b[0;34m\u001b[0m\u001b[0m\n",
      "\u001b[0;32m<ipython-input-3-aaa4a15453c9>\u001b[0m in \u001b[0;36mfind_last_occur\u001b[0;34m(nums, target)\u001b[0m\n\u001b[1;32m      7\u001b[0m \u001b[0;31m#     Tracer()()\u001b[0m\u001b[0;34m\u001b[0m\u001b[0;34m\u001b[0m\u001b[0m\n\u001b[1;32m      8\u001b[0m     \u001b[0mset_trace\u001b[0m\u001b[0;34m(\u001b[0m\u001b[0;34m)\u001b[0m\u001b[0;34m\u001b[0m\u001b[0m\n\u001b[0;32m----> 9\u001b[0;31m     \u001b[0;32mwhile\u001b[0m \u001b[0mlow\u001b[0m  \u001b[0;34m<\u001b[0m \u001b[0mhigh\u001b[0m \u001b[0;34m:\u001b[0m\u001b[0;34m\u001b[0m\u001b[0m\n\u001b[0m\u001b[1;32m     10\u001b[0m         \u001b[0mmid\u001b[0m \u001b[0;34m=\u001b[0m \u001b[0;34m(\u001b[0m\u001b[0mlow\u001b[0m \u001b[0;34m+\u001b[0m \u001b[0mhigh\u001b[0m\u001b[0;34m)\u001b[0m \u001b[0;34m//\u001b[0m \u001b[0;36m2\u001b[0m\u001b[0;34m\u001b[0m\u001b[0m\n\u001b[1;32m     11\u001b[0m         \u001b[0;32mif\u001b[0m \u001b[0mnums\u001b[0m\u001b[0;34m[\u001b[0m\u001b[0mmid\u001b[0m\u001b[0;34m]\u001b[0m \u001b[0;34m>\u001b[0m \u001b[0mtarget\u001b[0m\u001b[0;34m:\u001b[0m\u001b[0;34m\u001b[0m\u001b[0m\n",
      "\u001b[0;32m~/anaconda3/envs/research/lib/python3.6/bdb.py\u001b[0m in \u001b[0;36mtrace_dispatch\u001b[0;34m(self, frame, event, arg)\u001b[0m\n\u001b[1;32m     46\u001b[0m             \u001b[0;32mreturn\u001b[0m \u001b[0;31m# None\u001b[0m\u001b[0;34m\u001b[0m\u001b[0m\n\u001b[1;32m     47\u001b[0m         \u001b[0;32mif\u001b[0m \u001b[0mevent\u001b[0m \u001b[0;34m==\u001b[0m \u001b[0;34m'line'\u001b[0m\u001b[0;34m:\u001b[0m\u001b[0;34m\u001b[0m\u001b[0m\n\u001b[0;32m---> 48\u001b[0;31m             \u001b[0;32mreturn\u001b[0m \u001b[0mself\u001b[0m\u001b[0;34m.\u001b[0m\u001b[0mdispatch_line\u001b[0m\u001b[0;34m(\u001b[0m\u001b[0mframe\u001b[0m\u001b[0;34m)\u001b[0m\u001b[0;34m\u001b[0m\u001b[0m\n\u001b[0m\u001b[1;32m     49\u001b[0m         \u001b[0;32mif\u001b[0m \u001b[0mevent\u001b[0m \u001b[0;34m==\u001b[0m \u001b[0;34m'call'\u001b[0m\u001b[0;34m:\u001b[0m\u001b[0;34m\u001b[0m\u001b[0m\n\u001b[1;32m     50\u001b[0m             \u001b[0;32mreturn\u001b[0m \u001b[0mself\u001b[0m\u001b[0;34m.\u001b[0m\u001b[0mdispatch_call\u001b[0m\u001b[0;34m(\u001b[0m\u001b[0mframe\u001b[0m\u001b[0;34m,\u001b[0m \u001b[0marg\u001b[0m\u001b[0;34m)\u001b[0m\u001b[0;34m\u001b[0m\u001b[0m\n",
      "\u001b[0;32m~/anaconda3/envs/research/lib/python3.6/bdb.py\u001b[0m in \u001b[0;36mdispatch_line\u001b[0;34m(self, frame)\u001b[0m\n\u001b[1;32m     65\u001b[0m         \u001b[0;32mif\u001b[0m \u001b[0mself\u001b[0m\u001b[0;34m.\u001b[0m\u001b[0mstop_here\u001b[0m\u001b[0;34m(\u001b[0m\u001b[0mframe\u001b[0m\u001b[0;34m)\u001b[0m \u001b[0;32mor\u001b[0m \u001b[0mself\u001b[0m\u001b[0;34m.\u001b[0m\u001b[0mbreak_here\u001b[0m\u001b[0;34m(\u001b[0m\u001b[0mframe\u001b[0m\u001b[0;34m)\u001b[0m\u001b[0;34m:\u001b[0m\u001b[0;34m\u001b[0m\u001b[0m\n\u001b[1;32m     66\u001b[0m             \u001b[0mself\u001b[0m\u001b[0;34m.\u001b[0m\u001b[0muser_line\u001b[0m\u001b[0;34m(\u001b[0m\u001b[0mframe\u001b[0m\u001b[0;34m)\u001b[0m\u001b[0;34m\u001b[0m\u001b[0m\n\u001b[0;32m---> 67\u001b[0;31m             \u001b[0;32mif\u001b[0m \u001b[0mself\u001b[0m\u001b[0;34m.\u001b[0m\u001b[0mquitting\u001b[0m\u001b[0;34m:\u001b[0m \u001b[0;32mraise\u001b[0m \u001b[0mBdbQuit\u001b[0m\u001b[0;34m\u001b[0m\u001b[0m\n\u001b[0m\u001b[1;32m     68\u001b[0m         \u001b[0;32mreturn\u001b[0m \u001b[0mself\u001b[0m\u001b[0;34m.\u001b[0m\u001b[0mtrace_dispatch\u001b[0m\u001b[0;34m\u001b[0m\u001b[0m\n\u001b[1;32m     69\u001b[0m \u001b[0;34m\u001b[0m\u001b[0m\n",
      "\u001b[0;31mBdbQuit\u001b[0m: "
     ]
    }
   ],
   "source": [
    "#from IPython.core.debugger import set_trace \n",
    "from pdb import set_trace\n",
    "def find_last_occur( nums , target):\n",
    "    low = 0\n",
    "    high = len(nums) - 1\n",
    "#     from IPython.core.debugger import Tracer\n",
    "#     Tracer()()\n",
    "    set_trace()\n",
    "    while low  < high :\n",
    "        mid = (low + high) // 2\n",
    "        if nums[mid] > target:\n",
    "            high = mid \n",
    "        else:\n",
    "            low = mid + 1\n",
    "    return low - 1 \n",
    "\n",
    "nums = [3, 4, 8, 8, 9, 10]\n",
    "print(find_last_occur(nums, 8))"
   ]
  },
  {
   "cell_type": "markdown",
   "metadata": {},
   "source": [
    "### 거꾸로 오른쪽을 푸시하면"
   ]
  },
  {
   "cell_type": "code",
   "execution_count": null,
   "metadata": {
    "ExecuteTime": {
     "start_time": "2019-05-18T19:10:49.637Z"
    }
   },
   "outputs": [],
   "source": [
    "#from IPython.core.debugger import set_trace \n",
    "#from pdb import set_trace\n",
    "def find_last_occur( nums , target):\n",
    "    low = 0\n",
    "    high = len(nums) - 1\n",
    "#     from IPython.core.debugger import Tracer\n",
    "#     Tracer()()\n",
    "#    set_trace()\n",
    "    while low  < high :\n",
    "        mid = (low + high) // 2\n",
    "        if nums[mid] > target:\n",
    "            high = mid + 1\n",
    "        else:\n",
    "            low = mid\n",
    "    return low  \n",
    "\n",
    "nums = [3, 4, 8, 8, 9, 10]\n",
    "print(find_last_occur(nums, 8))"
   ]
  },
  {
   "cell_type": "code",
   "execution_count": null,
   "metadata": {},
   "outputs": [],
   "source": []
  },
  {
   "cell_type": "code",
   "execution_count": null,
   "metadata": {},
   "outputs": [],
   "source": []
  },
  {
   "cell_type": "code",
   "execution_count": null,
   "metadata": {},
   "outputs": [],
   "source": []
  },
  {
   "cell_type": "code",
   "execution_count": null,
   "metadata": {},
   "outputs": [],
   "source": []
  },
  {
   "cell_type": "markdown",
   "metadata": {},
   "source": [
    "<span class=\"burk\">위의 두개를 섞어서 해결하면, 아래와 같다.</span>"
   ]
  },
  {
   "cell_type": "code",
   "execution_count": 7,
   "metadata": {
    "ExecuteTime": {
     "end_time": "2019-04-24T20:51:59.944839Z",
     "start_time": "2019-04-24T20:51:59.930344Z"
    }
   },
   "outputs": [
    {
     "name": "stdout",
     "output_type": "stream",
     "text": [
      "[3, 5]\n"
     ]
    }
   ],
   "source": [
    "class Solution(object):\n",
    "    def searchRange(self, nums, target):\n",
    "        \"\"\"\n",
    "        :type nums: List[int]\n",
    "        :type target: int\n",
    "        :rtype: List[int]\n",
    "        \"\"\"\n",
    "        if len(nums) == 0:\n",
    "            return [-1, -1]\n",
    "\n",
    "        if len(nums) == 1:\n",
    "            if nums[0] == target:\n",
    "                return [0, 0]\n",
    "            else:\n",
    "                return [-1, -1]\n",
    "        \n",
    "\n",
    "        first = self.find_first_occur(nums, target) \n",
    "        if nums[first] != target:\n",
    "            return [ -1, -1]\n",
    "        \n",
    "        last = self.find_last_occur(nums, target)\n",
    "        if last == len(nums)-2:\n",
    "            if nums[last+1] == target:\n",
    "                last += 1\n",
    "\n",
    "        return [first, last]\n",
    "\n",
    "\n",
    "\n",
    "    def find_first_occur(self, nums , target):\n",
    "        low = 0\n",
    "        high = len(nums) - 1\n",
    "        \n",
    "        while low < high:\n",
    "            mid = (low + high) // 2\n",
    "            if nums[mid] < target:\n",
    "                low = mid + 1\n",
    "            else:\n",
    "                high = mid\n",
    "        return low\n",
    "\n",
    "    # nums = [5, 7, 7, 8, 8, 10]\n",
    "    # print(find_first_occur(nums, 8))\n",
    "\n",
    "    def find_last_occur( self, nums , target):\n",
    "        low = 0\n",
    "        high = len(nums) - 1\n",
    "\n",
    "        while low  < high :\n",
    "            mid = (low + high) // 2\n",
    "            if nums[mid] > target:\n",
    "                high = mid\n",
    "            else:\n",
    "                low = mid + 1\n",
    "        return low -1\n",
    "                \n",
    "        \n",
    "        \n",
    "nums = [5,7,7,8,8,8]\n",
    "#nums = [2, 2]\n",
    "target = 8\n",
    "print(Solution().searchRange(nums, target))\n"
   ]
  },
  {
   "cell_type": "markdown",
   "metadata": {},
   "source": [
    "## med --> 658. Find K Closest Elements\n",
    "\n",
    "https://leetcode.com/explore/learn/card/binary-search/135/template-iii/945/\n",
    "\n",
    "https://leetcode.com/problems/find-k-closest-elements/\n",
    "\n",
    "\n",
    "<span class=\"mark\">그냥 priority queue가 제일 빠를듯, binary search로 그다지 좋지 않다. 나중에 priority queue에서 설명할것</span>"
   ]
  },
  {
   "cell_type": "code",
   "execution_count": 5,
   "metadata": {
    "ExecuteTime": {
     "end_time": "2019-04-10T23:57:16.392346Z",
     "start_time": "2019-04-10T23:57:16.385823Z"
    }
   },
   "outputs": [],
   "source": [
    "a = [1,2]\n"
   ]
  },
  {
   "cell_type": "code",
   "execution_count": 10,
   "metadata": {
    "ExecuteTime": {
     "end_time": "2019-04-10T23:57:50.912248Z",
     "start_time": "2019-04-10T23:57:50.908364Z"
    }
   },
   "outputs": [],
   "source": [
    "a.insert( 0, 'a')"
   ]
  },
  {
   "cell_type": "code",
   "execution_count": 11,
   "metadata": {
    "ExecuteTime": {
     "end_time": "2019-04-10T23:57:52.168553Z",
     "start_time": "2019-04-10T23:57:52.153554Z"
    }
   },
   "outputs": [
    {
     "data": {
      "text/plain": [
       "['a', 1, 2]"
      ]
     },
     "execution_count": 11,
     "metadata": {},
     "output_type": "execute_result"
    }
   ],
   "source": [
    "a"
   ]
  },
  {
   "cell_type": "code",
   "execution_count": 2,
   "metadata": {
    "ExecuteTime": {
     "end_time": "2019-04-11T17:57:30.916793Z",
     "start_time": "2019-04-11T17:57:30.912120Z"
    }
   },
   "outputs": [],
   "source": [
    "a = [ (None, None), (1, 1)]"
   ]
  },
  {
   "cell_type": "code",
   "execution_count": 3,
   "metadata": {
    "ExecuteTime": {
     "end_time": "2019-04-11T17:57:32.344688Z",
     "start_time": "2019-04-11T17:57:32.330387Z"
    }
   },
   "outputs": [
    {
     "data": {
      "text/plain": [
       "True"
      ]
     },
     "execution_count": 3,
     "metadata": {},
     "output_type": "execute_result"
    }
   ],
   "source": [
    "a[0][0] is None"
   ]
  },
  {
   "cell_type": "code",
   "execution_count": 9,
   "metadata": {
    "ExecuteTime": {
     "end_time": "2019-04-11T18:35:29.559590Z",
     "start_time": "2019-04-11T18:35:29.548845Z"
    }
   },
   "outputs": [],
   "source": [
    "left = None\n",
    "right = 1"
   ]
  },
  {
   "cell_type": "code",
   "execution_count": 13,
   "metadata": {
    "ExecuteTime": {
     "end_time": "2019-04-11T18:36:24.492524Z",
     "start_time": "2019-04-11T18:36:24.488444Z"
    }
   },
   "outputs": [],
   "source": [
    "x = 4"
   ]
  },
  {
   "cell_type": "code",
   "execution_count": 14,
   "metadata": {
    "ExecuteTime": {
     "end_time": "2019-04-11T18:36:25.668819Z",
     "start_time": "2019-04-11T18:36:25.661980Z"
    }
   },
   "outputs": [
    {
     "data": {
      "text/plain": [
       "False"
      ]
     },
     "execution_count": 14,
     "metadata": {},
     "output_type": "execute_result"
    }
   ],
   "source": [
    "a[0] is None"
   ]
  },
  {
   "cell_type": "code",
   "execution_count": 17,
   "metadata": {
    "ExecuteTime": {
     "end_time": "2019-04-11T19:15:44.881705Z",
     "start_time": "2019-04-11T19:15:44.840555Z"
    }
   },
   "outputs": [
    {
     "name": "stdout",
     "output_type": "stream",
     "text": [
      "[1, 2, 3, 4]\n"
     ]
    }
   ],
   "source": [
    "class Solution(object):\n",
    "    def findClosestElements(self, arr, k, x):\n",
    "        \"\"\"\n",
    "        :type arr: List[int]\n",
    "        :type k: int\n",
    "        :type x: int\n",
    "        :rtype: List[int]\n",
    "        \"\"\"\n",
    "        ###############\n",
    "        # version 1.\n",
    "        if x <= arr[0]:\n",
    "            return arr[:k]\n",
    "        elif x >= arr[-1]:\n",
    "            return arr[-k:]\n",
    "\n",
    "        low = 0\n",
    "        high = len(arr) - 1\n",
    "        found = False\n",
    "        while low <= high:\n",
    "            mid = (low + high) // 2\n",
    "            if arr[mid] > x:\n",
    "                high = mid - 1\n",
    "            elif arr[mid] < x:\n",
    "                low = mid + 1\n",
    "            else: \n",
    "                idx0 = mid\n",
    "                found = True\n",
    "                break\n",
    "        # found index.\n",
    "        # found is True, then x is in the array.\n",
    "        # prepare the left one and right one for the candidates list of tuple\n",
    "        result = []\n",
    "        if found:\n",
    "            result.append(x)\n",
    "            right = mid+1 if (0 <= mid+1 <= len(arr)-1) else None\n",
    "            left = mid-1 if (0 <= mid+1 <= len(arr)-1) else None\n",
    "        else:# found in False, then it is low > high now.\n",
    "            right = max(low, high) if not found else mid + 1\n",
    "            left = min(low, high) if not found else mid - 1\n",
    "        candidates = [ (arr[left], left), (arr[right], right)]\n",
    "        current_length_of_result = len(result)\n",
    "        i = 0\n",
    "        while i < (k - current_length_of_result):\n",
    "            # check if any of two is None\n",
    "            # will both left and right be None?\n",
    "            # check which one is None, if any:\n",
    "            \n",
    "            if left is None : # pick the right one. \n",
    "                #(abs(candidates[0][0] - x) > abs(candidates[1][0] - x)):    \n",
    "            # if the first bool is True, second one not executed. so  no error.\n",
    "                result.append(candidates[1][0])\n",
    "                if (right + 1) < len(arr): # right is not None yet.\n",
    "                    right += 1\n",
    "                    candidates[1] = ( arr[right], right)\n",
    "                else: # right is over\n",
    "                    right = None\n",
    "                    candidates[1] = (None, None)\n",
    "\n",
    "            elif right is None :# pick the left one.\n",
    "                #or ( abs(candidates[0][0] -x )<= abs(candidates[1][0] - x)) : \n",
    "                result.append(candidates[0][0])\n",
    "                if (left - 1) >= 0 : # still oK  \n",
    "                    left -= 1\n",
    "                    candidates[0] = ( arr[left], left)\n",
    "                else: # left is over\n",
    "                    left = None\n",
    "                    candidates[0] = (None, None)\n",
    "            else: # both not None\n",
    "                if (abs(candidates[0][0] - x) > abs(candidates[1][0] - x)): # pick the right one\n",
    "                    result.append(candidates[1][0])\n",
    "                    if (right + 1) < len(arr): # right is not None yet.\n",
    "                        right += 1\n",
    "                        candidates[1] = ( arr[right], right)\n",
    "                    else: # right is over\n",
    "                        right = None\n",
    "                        candidates[1] = (None, None)\n",
    "                else: # pick the left one.\n",
    "                    result.append(candidates[0][0])\n",
    "                    if (left - 1) >= 0 : # still oK  \n",
    "                        left -= 1\n",
    "                        candidates[0] = ( arr[left], left)\n",
    "                    else: # left is over\n",
    "                        left = None\n",
    "                        candidates[0] = (None, None)\n",
    "            i += 1\n",
    "        return sorted(result)\n",
    "\n",
    "        ##################\n",
    "        # version 2. using priority queue\n",
    "\n",
    "#         new_arr = [ (abs(i - x), idx ) for idx, i in enumerate(arr)]\n",
    "#         heap = []\n",
    "#         for i in new_arr:\n",
    "#             heapq.heappush(heap, i)\n",
    "\n",
    "#         count = 0\n",
    "#         result = []\n",
    "#         while count < k:\n",
    "#             result.append(arr[heapq.heappop(heap)[1]])\n",
    "#             count += 1\n",
    "        \n",
    "#         return sorted(result)\n",
    "\n",
    "\n",
    "inp = [1,2,3,3,6,6,7,7,9,9]\n",
    "k=8\n",
    "x=8\n",
    "\n",
    "inp = [1,2,3,4,5]\n",
    "\n",
    "k = 4\n",
    "x = 3\n",
    "print(Solution().findClosestElements(inp, k, x))\n"
   ]
  },
  {
   "cell_type": "markdown",
   "metadata": {},
   "source": [
    "# 367. Valid Perfect Square\n",
    "\n",
    "https://leetcode.com/explore/learn/card/binary-search/137/conclusion/978/\n",
    "https://leetcode.com/problems/valid-perfect-square/\n",
    "\n",
    "sqrt 처럼 해결하게 시킬것"
   ]
  },
  {
   "cell_type": "code",
   "execution_count": 1,
   "metadata": {
    "ExecuteTime": {
     "end_time": "2019-04-25T17:12:03.014186Z",
     "start_time": "2019-04-25T17:12:02.961922Z"
    }
   },
   "outputs": [
    {
     "name": "stdout",
     "output_type": "stream",
     "text": [
      "True\n"
     ]
    }
   ],
   "source": [
    "class Solution(object):\n",
    "    def isPerfectSquare(self, num):\n",
    "        \"\"\"\n",
    "        :type num: int\n",
    "        :rtype: bool\n",
    "        \"\"\"\n",
    "        low = 0\n",
    "        high = num\n",
    "\n",
    "        while low < high:\n",
    "            mid = (low + high) // 2\n",
    "\n",
    "            if mid**2 < num:\n",
    "                low = mid + 1\n",
    "            else:\n",
    "                high = mid\n",
    "        \n",
    "        return  low**2 == num\n",
    "\n",
    "\n",
    "\n",
    "\n",
    "result = Solution().isPerfectSquare(16)\n",
    "print(result)\n"
   ]
  },
  {
   "cell_type": "markdown",
   "metadata": {},
   "source": [
    "# Hard 154. Find Minimum in Rotated Sorted Array II\n",
    "\n",
    "https://leetcode.com/explore/learn/card/binary-search/144/more-practices/1031/\n",
    "\n",
    "https://leetcode.com/problems/find-minimum-in-rotated-sorted-array-ii/\n",
    "\n",
    "\n",
    "<span class=\"burk\">먼저 find min in rotated sorted array 로 nums = [2,2,2, 2, 2,0,1] 를 하게 해본다.\n",
    "문제 없이 될거다. \n",
    "그럼  nums = [2,2,2, 2, 2,0,1, 2] 해보면, 마지막 텀이 2 로 중복되서 버그를 확인한다. \n",
    "그래서 아래의 elif nums[mid] < nums[high]: high = mid -1 와 else 를 추가 해서 해보게 한다.\n",
    "elif 에서 high = mid -1인지 아님 mid 인지 생각해보게한다. \n",
    "그다음에는 nums = [3, 1, 3] 해보면, high = mid - 1하면 버그나는거 보게 한다.</span>\n",
    "\n"
   ]
  },
  {
   "cell_type": "code",
   "execution_count": 2,
   "metadata": {
    "ExecuteTime": {
     "end_time": "2019-04-25T19:47:22.579545Z",
     "start_time": "2019-04-25T19:47:22.548538Z"
    }
   },
   "outputs": [
    {
     "name": "stdout",
     "output_type": "stream",
     "text": [
      "1\n"
     ]
    }
   ],
   "source": [
    "# The array may contain duplicates. -->  이 부분이 어려워서 하드?\n",
    "\n",
    "class Solution(object):\n",
    "    def findMin(self, nums):\n",
    "        \"\"\"\n",
    "        :type nums: List[int]\n",
    "        :rtype: int\n",
    "        \"\"\"\n",
    "        low = 0\n",
    "        high = len(nums)-1\n",
    "\n",
    "        while low < high:\n",
    "            mid = (low + high) // 2\n",
    "            if nums[mid] > nums[high]:\n",
    "                low = mid + 1\n",
    "            elif nums[mid] < nums[high]: \n",
    "                high = mid\n",
    "            else:\n",
    "                high -= 1\n",
    "        return nums[low]\n",
    "\n",
    "nums = [2, 2, 2, 0, 1] # 이건 예전 코드로 될거다.\n",
    "nums = [2,2,2, 2, 2,0,1, 2] # 이건 마지막 텀의 2 때문에 안된다. 그럼 어떻게 이걸 해결할지 생각하게 할것.\n",
    "# \n",
    "nums = [3,1,3]\n",
    "result = Solution().findMin(nums)\n",
    "print(result)"
   ]
  },
  {
   "cell_type": "code",
   "execution_count": null,
   "metadata": {},
   "outputs": [],
   "source": []
  },
  {
   "cell_type": "code",
   "execution_count": null,
   "metadata": {},
   "outputs": [],
   "source": []
  },
  {
   "cell_type": "code",
   "execution_count": null,
   "metadata": {},
   "outputs": [],
   "source": []
  },
  {
   "cell_type": "code",
   "execution_count": null,
   "metadata": {},
   "outputs": [],
   "source": []
  },
  {
   "cell_type": "code",
   "execution_count": null,
   "metadata": {},
   "outputs": [],
   "source": []
  },
  {
   "cell_type": "markdown",
   "metadata": {
    "heading_collapsed": true
   },
   "source": [
    "# Easy - leetcode --> compare it with two pointer method \n",
    "https://leetcode.com/problems/peak-index-in-a-mountain-array/\n",
    "- method 1: two points method. simpler O(n)\n",
    "- method 2: binary search. slightly slower than method 1. O(nlog(n))"
   ]
  },
  {
   "cell_type": "code",
   "execution_count": 1,
   "metadata": {
    "ExecuteTime": {
     "end_time": "2019-02-16T14:11:31.414078Z",
     "start_time": "2019-02-16T14:11:31.316731Z"
    },
    "hidden": true
   },
   "outputs": [
    {
     "name": "stdout",
     "output_type": "stream",
     "text": [
      "[1, 2]\n"
     ]
    }
   ],
   "source": [
    "class Solution(object):\n",
    "    def twoSum(self, numbers, target):\n",
    "        \"\"\"\n",
    "        :type numbers: List[int]\n",
    "        :type target: int\n",
    "        :rtype: List[int]\n",
    "        \"\"\"\n",
    "\n",
    "        # method 1: two point\n",
    "        # i1 = 0\n",
    "        # i2 = len(numbers) - 1\n",
    "        # while i1 < i2:\n",
    "        #     if  (numbers[i1] + numbers[i2]) == target:\n",
    "        #         return [i1 + 1, i2  + 1]\n",
    "        #     elif (numbers[i1] + numbers[i2]) < target:\n",
    "        #         i1 += 1\n",
    "        #     else: \n",
    "        #         i2 -= 1\n",
    "        \n",
    "        # return False\n",
    "\n",
    "\n",
    "        # method 2: binary search\n",
    "\n",
    "        #found = False\n",
    "        for i in range(len(numbers)):\n",
    "            smallOne= i + 1\n",
    "            bigOne = len(numbers) - 1\n",
    "            second = (smallOne + bigOne )// 2\n",
    "            while (smallOne <= bigOne): # and not found:\n",
    "                sum_of_two = numbers[i] + numbers[second]\n",
    "                if sum_of_two < target:\n",
    "                    smallOne = second+1\n",
    "                    second = (smallOne + bigOne )// 2\n",
    "                elif sum_of_two > target: \n",
    "                    bigOne = second - 1\n",
    "                    second = (smallOne + bigOne )// 2\n",
    "                else:\n",
    "                    return [i+1, second + 1]\n",
    "        return None\n",
    "\n",
    "\n",
    "\n",
    "\n",
    "\n",
    "\n",
    "\n",
    "sol = Solution()\n",
    "numbers = [2,7,11,15]\n",
    "target = 9\n",
    "print(sol.twoSum(numbers, target))\n",
    "\n",
    "\n"
   ]
  },
  {
   "cell_type": "code",
   "execution_count": null,
   "metadata": {
    "hidden": true
   },
   "outputs": [],
   "source": []
  }
 ],
 "metadata": {
  "kernelspec": {
   "display_name": "Python 3",
   "language": "python",
   "name": "python3"
  },
  "language_info": {
   "codemirror_mode": {
    "name": "ipython",
    "version": 3
   },
   "file_extension": ".py",
   "mimetype": "text/x-python",
   "name": "python",
   "nbconvert_exporter": "python",
   "pygments_lexer": "ipython3",
   "version": "3.7.0"
  },
  "toc": {
   "base_numbering": 1,
   "nav_menu": {},
   "number_sections": true,
   "sideBar": false,
   "skip_h1_title": false,
   "title_cell": "Table of Contents",
   "title_sidebar": "Contents",
   "toc_cell": true,
   "toc_position": {
    "height": "337.9779357910156px",
    "left": "1309.6690673828125px",
    "top": "110.47793579101563px",
    "width": "287.9779357910156px"
   },
   "toc_section_display": true,
   "toc_window_display": true
  }
 },
 "nbformat": 4,
 "nbformat_minor": 2
}
