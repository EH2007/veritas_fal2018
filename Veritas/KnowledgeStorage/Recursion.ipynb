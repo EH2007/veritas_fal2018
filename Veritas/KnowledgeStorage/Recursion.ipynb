{
 "cells": [
  {
   "cell_type": "code",
   "execution_count": 2,
   "metadata": {},
   "outputs": [
    {
     "name": "stdout",
     "output_type": "stream",
     "text": [
      "25\n",
      "25\n"
     ]
    }
   ],
   "source": [
    "alist = [1,3,5,7,9]\n",
    "\n",
    "def listsum(a):\n",
    "  theSum = 0\n",
    "  for i in a:\n",
    "    theSum += i\n",
    "  return theSum\n",
    "\n",
    "print(listsum(alist))\n",
    "\n",
    "# 1 + [3,5,7,9]\n",
    "#     3 + [ 5, 7, 9]\n",
    "#         5 + [7, 9]\n",
    "#              7 + [9]\n",
    "# --------------------\n",
    "# 1 + 3 + 5 + 7 + 9\n",
    "             \n",
    "def listSum(a):\n",
    "  if len(a) == 1:\n",
    "    return a[0]\n",
    "  else:\n",
    "    return a[0] + listSum(a[1:])\n",
    "\n",
    "print(listSum(alist))"
   ]
  },
  {
   "cell_type": "markdown",
   "metadata": {},
   "source": [
    "# For Problem 3 of USACO 2018 December Contest, Bronze: Back and Forth - Eugene Hwang 2/28/2019\n",
    "# http://usaco.org/index.php?page=viewproblem2&cpid=857"
   ]
  },
  {
   "cell_type": "markdown",
   "metadata": {},
   "source": [
    "# Write a function that reverses a string. The input string is given as an array of characters char[]. Do not allocate extra space for another array, you must do this by modifying the input array in-place with O(1) extra memory. You may assume all the characters consist of printable ascii characters."
   ]
  },
  {
   "cell_type": "code",
   "execution_count": 1,
   "metadata": {},
   "outputs": [
    {
     "name": "stdout",
     "output_type": "stream",
     "text": [
      "olleh\n"
     ]
    }
   ],
   "source": [
    "alist = [\"h\", \"e\", \"l\", \"l\", \"o\"]\n",
    "class Solution(object):\n",
    "    def reverseString(self, s):\n",
    "        if len(s) == 1:\n",
    "            return s[0]\n",
    "        else:\n",
    "            return s.pop() + self.reverseString(s)\n",
    "sol = Solution()\n",
    "print(sol.reverseString(alist))"
   ]
  },
  {
   "cell_type": "markdown",
   "metadata": {},
   "source": [
    "# Given a non-negative index k where k ≤ 33, return the kth index row of the Pascal's triangle. Note that the row index starts from 0."
   ]
  },
  {
   "cell_type": "code",
   "execution_count": 2,
   "metadata": {},
   "outputs": [
    {
     "name": "stdout",
     "output_type": "stream",
     "text": [
      "[1, 3]\n"
     ]
    }
   ],
   "source": [
    "class Solution(object):\n",
    "    def getRow(self, rowIndex):\n",
    "        result = [1]\n",
    "        for i in range(2, rowIndex):\n",
    "            result.append(self.rec(rowIndex, i))\n",
    "        return result\n",
    "    def rec(self, j, i):\n",
    "        if i == 1 or i - 1 == j:\n",
    "            return 1\n",
    "        else:\n",
    "            return self.rec(j - 1, i - 1) + self.rec(j - 1, i)\n",
    "sol = Solution()\n",
    "print(sol.getRow(3))"
   ]
  },
  {
   "cell_type": "code",
   "execution_count": null,
   "metadata": {},
   "outputs": [],
   "source": []
  }
 ],
 "metadata": {
  "kernelspec": {
   "display_name": "Python 3",
   "language": "python",
   "name": "python3"
  },
  "language_info": {
   "codemirror_mode": {
    "name": "ipython",
    "version": 3
   },
   "file_extension": ".py",
   "mimetype": "text/x-python",
   "name": "python",
   "nbconvert_exporter": "python",
   "pygments_lexer": "ipython3",
   "version": "3.7.0"
  }
 },
 "nbformat": 4,
 "nbformat_minor": 2
}
