{
 "cells": [
  {
   "cell_type": "markdown",
   "metadata": {},
   "source": [
    "# 4. It is possible to name the days 0 through 6 where day 0 is Sunday and day 6 is Saturday. If you go on a wonderful holiday leaving on day number 3 (a Wednesday) and you return home after 10 nights. Write a general version of the program which asks for the starting day number, and the length of your stay, and it will tell you the number of day of the week you will return on."
   ]
  },
  {
   "cell_type": "code",
   "execution_count": 12,
   "metadata": {},
   "outputs": [
    {
     "name": "stdout",
     "output_type": "stream",
     "text": [
      "When will your trip start on (number)?1\n",
      "How long will you stay?1\n",
      "Tuesday\n"
     ]
    }
   ],
   "source": [
    "week_day = [\"Sunday\", \"Monday\", \"Tuesday\", \"Wednesday\", \"Thursday\", \"Friday\", \"Saturday\"]\n",
    "start = int(input(\"When will your trip start on (number)?\"))\n",
    "length = int(input(\"How long will you stay?\"))\n",
    "end_day = start + length\n",
    "print(week_day[end_day % 7])"
   ]
  },
  {
   "cell_type": "markdown",
   "metadata": {},
   "source": [
    "# 8. Write a program that will compute the area of a circle. Prompt the user to enter the radius and print a nice message back to the user with the answer."
   ]
  },
  {
   "cell_type": "code",
   "execution_count": 13,
   "metadata": {},
   "outputs": [
    {
     "name": "stdout",
     "output_type": "stream",
     "text": [
      "What is the radius of your circle? 1\n",
      "This is the incredible area of your incredible circle: 3.14\n"
     ]
    }
   ],
   "source": [
    "radius = int(input(\"What is the radius of your circle? \"))\n",
    "print(\"This is the incredible area of your incredible circle:\", (radius ** 2) * 3.14)"
   ]
  },
  {
   "cell_type": "markdown",
   "metadata": {},
   "source": [
    "# 9. Write a program that will compute the area of a rectangle. Prompt the user to enter the width and height of the rectangle. Print a nice message with the answer."
   ]
  },
  {
   "cell_type": "code",
   "execution_count": 14,
   "metadata": {},
   "outputs": [
    {
     "name": "stdout",
     "output_type": "stream",
     "text": [
      "What is your lovely width of your lovely rectangle? 1\n",
      "What is your lovely height of your lovely rectangle? 1\n",
      "Your lovely (like you) rectangle's area is: 1\n"
     ]
    }
   ],
   "source": [
    "width = int(input(\"What is your lovely width of your lovely rectangle? \"))\n",
    "height = int(input(\"What is your lovely height of your lovely rectangle? \"))\n",
    "print(\"Your lovely (like you) rectangle's area is:\", width * height)"
   ]
  },
  {
   "cell_type": "markdown",
   "metadata": {},
   "source": [
    "# 10. Write a program that will compute MPG for a car. Prompt the user to enter the number of miles driven and the number of gallons used. Print a nice message with the answer."
   ]
  },
  {
   "cell_type": "code",
   "execution_count": 15,
   "metadata": {},
   "outputs": [
    {
     "name": "stdout",
     "output_type": "stream",
     "text": [
      "What how long is your trip in miles?2\n",
      "How much gallons of gasoline will to fuel up your car?2\n",
      "You MPG for you trip is: 1.0. Have a nice trip.\n"
     ]
    }
   ],
   "source": [
    "miles = int(input(\"What how long is your trip in miles?\"))\n",
    "gallons = int(input(\"How much gallons of gasoline will to fuel up your car?\"))\n",
    "print(\"You MPG for you trip is:\", str(miles / gallons) + \".\", \"Have a nice trip.\")"
   ]
  },
  {
   "cell_type": "markdown",
   "metadata": {},
   "source": [
    "# 11. Write a program that will convert degrees celsius to degrees fahrenheit."
   ]
  },
  {
   "cell_type": "code",
   "execution_count": 16,
   "metadata": {},
   "outputs": [
    {
     "name": "stdout",
     "output_type": "stream",
     "text": [
      "What is the temperature in celsius?2\n",
      "Your temperature in fahrenheit is: 35.6. Have a nice day.\n"
     ]
    }
   ],
   "source": [
    "celsius = int(input(\"What is the temperature in celsius?\"))\n",
    "print(\"Your temperature in fahrenheit is:\", str((celsius * 9/5) + 32) + \".\", \"Have a nice day.\")"
   ]
  },
  {
   "cell_type": "markdown",
   "metadata": {},
   "source": [
    "# 12. Write a program that will convert degrees fahrenheit to degrees celsius."
   ]
  },
  {
   "cell_type": "code",
   "execution_count": 17,
   "metadata": {},
   "outputs": [
    {
     "name": "stdout",
     "output_type": "stream",
     "text": [
      "What is the temperature in fahrenheit?2\n",
      "Your temperature in celsius is: -16.666666666666668. Have a nice day.\n"
     ]
    }
   ],
   "source": [
    "fahrenheit = int(input(\"What is the temperature in fahrenheit?\"))\n",
    "print(\"Your temperature in celsius is:\", str((fahrenheit - 32) * 5/9) + \".\", \"Have a nice day.\")"
   ]
  }
 ],
 "metadata": {
  "kernelspec": {
   "display_name": "Python 3",
   "language": "python",
   "name": "python3"
  },
  "language_info": {
   "codemirror_mode": {
    "name": "ipython",
    "version": 3
   },
   "file_extension": ".py",
   "mimetype": "text/x-python",
   "name": "python",
   "nbconvert_exporter": "python",
   "pygments_lexer": "ipython3",
   "version": "3.6.5"
  }
 },
 "nbformat": 4,
 "nbformat_minor": 2
}
