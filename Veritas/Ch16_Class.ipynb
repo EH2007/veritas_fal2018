{
 "cells": [
  {
   "cell_type": "markdown",
   "metadata": {},
   "source": [
    "# How to define a class"
   ]
  },
  {
   "cell_type": "code",
   "execution_count": 97,
   "metadata": {
    "collapsed": true
   },
   "outputs": [],
   "source": [
    "class Point(object):\n",
    "    \"\"\"Point class\"\"\"\n",
    "    def __init__(self):\n",
    "        \"\"\"initial location\"\"\"\n",
    "        self.x = 0\n",
    "        self.y = 0"
   ]
  },
  {
   "cell_type": "markdown",
   "metadata": {},
   "source": [
    "# How to use a class"
   ]
  },
  {
   "cell_type": "code",
   "execution_count": 98,
   "metadata": {},
   "outputs": [
    {
     "name": "stdout",
     "output_type": "stream",
     "text": [
      "0\n"
     ]
    }
   ],
   "source": [
    "#object\n",
    "p = Point()\n",
    "\n",
    "#access to states\n",
    "print(p.x)"
   ]
  },
  {
   "cell_type": "code",
   "execution_count": 99,
   "metadata": {},
   "outputs": [
    {
     "name": "stdout",
     "output_type": "stream",
     "text": [
      "0\n"
     ]
    }
   ],
   "source": [
    "q = Point()\n",
    "print(q.x)"
   ]
  },
  {
   "cell_type": "code",
   "execution_count": 100,
   "metadata": {
    "collapsed": true
   },
   "outputs": [],
   "source": [
    "q.x = 3"
   ]
  },
  {
   "cell_type": "code",
   "execution_count": 101,
   "metadata": {},
   "outputs": [
    {
     "name": "stdout",
     "output_type": "stream",
     "text": [
      "3\n"
     ]
    }
   ],
   "source": [
    "print(q.x)"
   ]
  },
  {
   "cell_type": "code",
   "execution_count": 102,
   "metadata": {
    "scrolled": true
   },
   "outputs": [
    {
     "name": "stdout",
     "output_type": "stream",
     "text": [
      "0\n"
     ]
    }
   ],
   "source": [
    "print(p.x)"
   ]
  },
  {
   "cell_type": "markdown",
   "metadata": {},
   "source": [
    "# In Python, we define a class by typing \"class\" and then providing it a name.\n",
    "## To make a fraction, we need a numerator and a denomenator; which is what __init__ will do."
   ]
  },
  {
   "cell_type": "code",
   "execution_count": 120,
   "metadata": {},
   "outputs": [
    {
     "ename": "SyntaxError",
     "evalue": "unexpected EOF while parsing (<ipython-input-120-f40c42bb8df5>, line 2)",
     "output_type": "error",
     "traceback": [
      "\u001b[0;36m  File \u001b[0;32m\"<ipython-input-120-f40c42bb8df5>\"\u001b[0;36m, line \u001b[0;32m2\u001b[0m\n\u001b[0;31m    \u001b[0m\n\u001b[0m    ^\u001b[0m\n\u001b[0;31mSyntaxError\u001b[0m\u001b[0;31m:\u001b[0m unexpected EOF while parsing\n"
     ]
    }
   ],
   "source": [
    "class Fraction(object):\n",
    "    def __init__(self,top,bottom):\n",
    "        pass"
   ]
  },
  {
   "cell_type": "code",
   "execution_count": 6,
   "metadata": {},
   "outputs": [
    {
     "name": "stdout",
     "output_type": "stream",
     "text": [
      "3\n"
     ]
    }
   ],
   "source": [
    "def gcd(m,n):\n",
    "    while m%n != 0:\n",
    "        oldm = m\n",
    "        oldn = n\n",
    "\n",
    "        m = oldn\n",
    "        n = oldm%oldn\n",
    "    return n\n",
    "\n",
    "print(gcd(123, 294))"
   ]
  },
  {
   "cell_type": "code",
   "execution_count": 26,
   "metadata": {},
   "outputs": [],
   "source": [
    "class Fraction(object):\n",
    "    def __init__(self,top,bottom):\n",
    "        \n",
    "        \n",
    "        self.num = top\n",
    "        self.den = bottom\n",
    "    def show(self):\n",
    "        print(self.num, \"/\", self.den)\n",
    "    '''def __str__(self):\n",
    "        return str(self.num)+\"/\"+str(self.den)'''\n",
    "    def __add__(self,otherfraction):\n",
    "        newnum = self.num*otherfraction.den + self.den*otherfraction.num\n",
    "        newden = self.den*otherfraction.den\n",
    "        common = gcd(newnum,newden)\n",
    "        return Fraction(newnum//common, newden//common)\n",
    "    def __sub__(self, otherfraction):\n",
    "        newnum = self.num*otherfraction.den - self.den*otherfraction.num\n",
    "        newden = self.den*otherfraction.den\n",
    "        common = gcd(newnum,newden)\n",
    "        return Fraction(newnum//common, newden//common)\n",
    "    def __eq__(self,other):\n",
    "        firstnum = self.num*other.den\n",
    "        secondnum = other.num*self.den\n",
    "        return firstnum == secondnum\n",
    "    def getNum(self):\n",
    "        return self.num\n",
    "    def getDen(self):\n",
    "        return self.den\n",
    "    def __mul__(self, other):\n",
    "        newnum = self.num*other.num\n",
    "        newden = self.den*other.den\n",
    "        common = gcd(newnum,newden)\n",
    "        return Fraction(newnum//common, newden//common)\n",
    "    def __gt__(self,other):\n",
    "        firstnum = self.num*other.den\n",
    "        secondnum = other.num*self.den\n",
    "        return firstnum > secondnum\n",
    "    def __ge__(self,other):\n",
    "        firstnum = self.num*other.den\n",
    "        secondnum = other.num*self.den\n",
    "        return firstnum >= secondnum\n",
    "    def __lt__(self,other):\n",
    "        firstnum = self.num*other.den\n",
    "        secondnum = other.num*self.den\n",
    "        return firstnum < secondnum\n",
    "    def __le__(self,other):\n",
    "        firstnum = self.num*other.den\n",
    "        secondnum = other.num*self.den\n",
    "        return firstnum <= secondnum\n",
    "    def __ne__(self,other):\n",
    "        firstnum = self.num*other.den\n",
    "        secondnum = other.num*self.den\n",
    "        return firstnum != secondnum\n",
    "    def __repr__(self):\n",
    "        print(\"This is from __repr__\", repr(self.num), \"/\", repr(self.den))"
   ]
  },
  {
   "cell_type": "code",
   "execution_count": 29,
   "metadata": {
    "scrolled": true
   },
   "outputs": [
    {
     "name": "stdout",
     "output_type": "stream",
     "text": [
      "3 / 5\n",
      "This is from __repr__ 3 / 5\n"
     ]
    },
    {
     "ename": "TypeError",
     "evalue": "__str__ returned non-string (type NoneType)",
     "output_type": "error",
     "traceback": [
      "\u001b[0;31m---------------------------------------------------------------------------\u001b[0m",
      "\u001b[0;31mTypeError\u001b[0m                                 Traceback (most recent call last)",
      "\u001b[0;32m<ipython-input-29-7422a98e57aa>\u001b[0m in \u001b[0;36m<module>\u001b[0;34m()\u001b[0m\n\u001b[1;32m     29\u001b[0m print(f1 != f2)'''\n\u001b[1;32m     30\u001b[0m \u001b[0;34m\u001b[0m\u001b[0m\n\u001b[0;32m---> 31\u001b[0;31m \u001b[0mprint\u001b[0m\u001b[0;34m(\u001b[0m\u001b[0mmyf\u001b[0m\u001b[0;34m)\u001b[0m\u001b[0;34m\u001b[0m\u001b[0m\n\u001b[0m",
      "\u001b[0;31mTypeError\u001b[0m: __str__ returned non-string (type NoneType)"
     ]
    }
   ],
   "source": [
    "myf = Fraction(3,5)\n",
    "f1 = Fraction(1,2)\n",
    "f2 = Fraction(1,4)\n",
    "\n",
    "myf.show()\n",
    "\n",
    "'''print(myf)\n",
    "\n",
    "print(f1 + f2)\n",
    "\n",
    "print(f1-f2)\n",
    "\n",
    "print(f1 == f2)\n",
    "\n",
    "print(myf.getNum())\n",
    "\n",
    "print(myf.getDen())\n",
    "\n",
    "print(f1*f2)\n",
    "\n",
    "print(f1 > f2)\n",
    "\n",
    "print(f1 >= f2)\n",
    "\n",
    "print(f1 < f2)\n",
    "\n",
    "print(f1 <= f2)\n",
    "\n",
    "print(f1 != f2)'''\n",
    "\n",
    "print(myf)"
   ]
  },
  {
   "cell_type": "code",
   "execution_count": null,
   "metadata": {},
   "outputs": [],
   "source": []
  }
 ],
 "metadata": {
  "kernelspec": {
   "display_name": "Python 3",
   "language": "python",
   "name": "python3"
  },
  "language_info": {
   "codemirror_mode": {
    "name": "ipython",
    "version": 3
   },
   "file_extension": ".py",
   "mimetype": "text/x-python",
   "name": "python",
   "nbconvert_exporter": "python",
   "pygments_lexer": "ipython3",
   "version": "3.6.5"
  }
 },
 "nbformat": 4,
 "nbformat_minor": 2
}
