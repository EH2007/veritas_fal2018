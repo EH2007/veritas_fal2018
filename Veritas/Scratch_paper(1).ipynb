{
 "cells": [
  {
   "cell_type": "markdown",
   "metadata": {},
   "source": [
    "# #24 Sum all the elements in a list up to but not including the first even number."
   ]
  },
  {
   "cell_type": "code",
   "execution_count": 9,
   "metadata": {},
   "outputs": [],
   "source": [
    "myList = [6,3,4]\n",
    "def sumNotFirst(myList):\n",
    "    flag = True\n",
    "    result = 0\n",
    "    for position in range(len(myList)):\n",
    "        if flag == True:\n",
    "            if myList[position] % 2 == 0:\n",
    "                flag = False\n",
    "                pass\n",
    "            else:\n",
    "                result = result + myList[position]\n",
    "        elif flag == False:\n",
    "            result = result + myList[position]\n",
    "    return result\n"
   ]
  },
  {
   "cell_type": "code",
   "execution_count": 10,
   "metadata": {},
   "outputs": [
    {
     "data": {
      "text/plain": [
       "7"
      ]
     },
     "execution_count": 10,
     "metadata": {},
     "output_type": "execute_result"
    }
   ],
   "source": [
    "sumNotFirst(myList)"
   ]
  },
  {
   "cell_type": "code",
   "execution_count": null,
   "metadata": {},
   "outputs": [],
   "source": []
  }
 ],
 "metadata": {
  "kernelspec": {
   "display_name": "Python 3",
   "language": "python",
   "name": "python3"
  },
  "language_info": {
   "codemirror_mode": {
    "name": "ipython",
    "version": 3
   },
   "file_extension": ".py",
   "mimetype": "text/x-python",
   "name": "python",
   "nbconvert_exporter": "python",
   "pygments_lexer": "ipython3",
   "version": "3.6.5"
  }
 },
 "nbformat": 4,
 "nbformat_minor": 2
}
