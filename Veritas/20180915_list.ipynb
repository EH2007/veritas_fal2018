{
 "cells": [
  {
   "cell_type": "markdown",
   "metadata": {},
   "source": [
    "# 10.1 Lists\n",
    "\n",
    "A list is a sequential collection of Python datas where each value is identified by an index. The values inside a list is called an element. One element can be different from other elements."
   ]
  },
  {
   "cell_type": "markdown",
   "metadata": {},
   "source": [
    "# 10.2 List Values\n",
    "There are several ways to enclose a list but the most simplest way is to enclose it in square brackets ([]). An element can be a string, a float, an intiger, or even another list. A list inside a list is said to be nested and the inner list is called a sublist. There is also a list that has no elements inside called an empty list."
   ]
  },
  {
   "cell_type": "code",
   "execution_count": 1,
   "metadata": {},
   "outputs": [
    {
     "name": "stdout",
     "output_type": "stream",
     "text": [
      "[17, 123]\n",
      "['hello', 2.0, 10, [10, 20]]\n",
      "[[17, 123], ['iteration', 'selection', 'control']]\n"
     ]
    }
   ],
   "source": [
    "vocabulary = [\"iteration\", \"selection\", \"control\"]\n",
    "numbers = [17, 123]\n",
    "empty = []\n",
    "mixedlist = [\"hello\", 2.0, 5*2, [10, 20]]\n",
    "\n",
    "print(numbers)\n",
    "print(mixedlist)\n",
    "newlist = [ numbers, vocabulary ]\n",
    "print(newlist)"
   ]
  },
  {
   "cell_type": "markdown",
   "metadata": {},
   "source": [
    "# 10.3 List Length\n",
    "\n",
    "The function len brings back the length of a list. However, sublists are considered a single item instead of multiple items."
   ]
  },
  {
   "cell_type": "code",
   "execution_count": 2,
   "metadata": {},
   "outputs": [
    {
     "name": "stdout",
     "output_type": "stream",
     "text": [
      "4\n",
      "4\n"
     ]
    }
   ],
   "source": [
    "alist =  [\"hello\", 2.0, 5, [10, 20]]\n",
    "print(len(alist))\n",
    "print(len(['spam!', 1, ['Brie', 'Roquefort', 'Pol le Veq'], [1, 2, 3]]))"
   ]
  },
  {
   "cell_type": "markdown",
   "metadata": {},
   "source": [
    "# 10.4 Accessing Elements\n",
    "\n",
    "The syntax for accessing elements in a list is the same syntax for accessing characters in a string, which is the index operator ([] - not an empty list). Indices start with the number 0 not 1. Negative indices will locate items from right to left."
   ]
  },
  {
   "cell_type": "code",
   "execution_count": 3,
   "metadata": {},
   "outputs": [
    {
     "name": "stdout",
     "output_type": "stream",
     "text": [
      "87\n",
      "123\n",
      "8398\n",
      "44\n"
     ]
    }
   ],
   "source": [
    "numbers = [17, 123, 87, 34, 66, 8398, 44]\n",
    "print(numbers[2])\n",
    "print(numbers[9 - 8])\n",
    "print(numbers[-2])\n",
    "print(numbers[len(numbers) - 1])"
   ]
  },
  {
   "cell_type": "markdown",
   "metadata": {},
   "source": [
    "# 10.5 \n",
    "\n",
    "The booleans in and not in test membership of the list or see if the element is in the list."
   ]
  },
  {
   "cell_type": "code",
   "execution_count": 1,
   "metadata": {},
   "outputs": [
    {
     "name": "stdout",
     "output_type": "stream",
     "text": [
      "True\n",
      "False\n"
     ]
    }
   ],
   "source": [
    "fruit = [\"apple\", \"orange\", \"banana\", \"cherry\"]\n",
    "\n",
    "print(\"apple\" in fruit)\n",
    "print(\"pear\" in fruit)"
   ]
  },
  {
   "cell_type": "markdown",
   "metadata": {},
   "source": [
    "# 10.6 Concatenation and Repetition\n",
    "\n",
    "The + function adds lists while the * function repeats the list in a certain amount of times."
   ]
  },
  {
   "cell_type": "code",
   "execution_count": 2,
   "metadata": {},
   "outputs": [
    {
     "name": "stdout",
     "output_type": "stream",
     "text": [
      "[1, 2, 3, 4]\n",
      "['apple', 'orange', 'banana', 'cherry', 6, 7, 8, 9]\n",
      "[0, 0, 0, 0]\n",
      "[1, 2, ['hello', 'goodbye'], 1, 2, ['hello', 'goodbye']]\n"
     ]
    }
   ],
   "source": [
    "fruit = [\"apple\", \"orange\", \"banana\", \"cherry\"]\n",
    "print([1, 2] + [3, 4])\n",
    "print(fruit + [6, 7, 8, 9])\n",
    "\n",
    "print([0] * 4)\n",
    "print([1, 2, [\"hello\", \"goodbye\"]] * 2)"
   ]
  },
  {
   "cell_type": "markdown",
   "metadata": {},
   "source": [
    "# 10.7 List Slices\n",
    "\n",
    "Slice operation work in lists like strings. The first index is the is the starting point of the slice and the second index is the one index past the ending of the slice. If the first index is omitted, the slice begins at the beginning of the list. If the second index is omitted, then the slice ends at the ending of the list."
   ]
  },
  {
   "cell_type": "code",
   "execution_count": 6,
   "metadata": {},
   "outputs": [
    {
     "name": "stdout",
     "output_type": "stream",
     "text": [
      "['b', 'c']\n",
      "['a', 'b', 'c', 'd']\n",
      "['d', 'e', 'f']\n",
      "['a', 'b', 'c', 'd', 'e', 'f']\n",
      "[6, 3, 1]\n"
     ]
    }
   ],
   "source": [
    "a_list = ['a', 'b', 'c', 'd', 'e', 'f']\n",
    "print(a_list[1:3])\n",
    "print(a_list[:4])\n",
    "print(a_list[3:])\n",
    "print(a_list[:])\n",
    "\n",
    "\n",
    "a = [8, 6, 3, 1, 9]\n",
    "print(a[1:4])"
   ]
  },
  {
   "cell_type": "markdown",
   "metadata": {},
   "source": [
    "# 10.17 Lists and For Loops\n",
    "\n",
    "It is possible to perform list traversal using iteration by item and iteration by index. "
   ]
  },
  {
   "cell_type": "code",
   "execution_count": 8,
   "metadata": {},
   "outputs": [
    {
     "name": "stdout",
     "output_type": "stream",
     "text": [
      "apple\n",
      "orange\n",
      "banana\n",
      "cherry\n",
      "apple\n",
      "orange\n",
      "banana\n",
      "cherry\n"
     ]
    }
   ],
   "source": [
    "fruits = [\"apple\", \"orange\", \"banana\", \"cherry\"]\n",
    "\n",
    "for afruit in fruits:     # by item\n",
    "    print(afruit)\n",
    "\n",
    "  \n",
    "    \n",
    "fruits = [\"apple\", \"orange\", \"banana\", \"cherry\"]\n",
    "\n",
    "for position in range(len(fruits)):     # by index\n",
    "    print(fruits[position])\n"
   ]
  },
  {
   "cell_type": "markdown",
   "metadata": {},
   "source": [
    "## 10.17 Countinued...\n",
    "\n",
    "These are more examples using lists with loops"
   ]
  },
  {
   "cell_type": "code",
   "execution_count": 9,
   "metadata": {},
   "outputs": [
    {
     "name": "stdout",
     "output_type": "stream",
     "text": [
      "0\n",
      "3\n",
      "6\n",
      "9\n",
      "12\n",
      "15\n",
      "18\n"
     ]
    }
   ],
   "source": [
    "for number in range(20):\n",
    "    if number % 3 == 0:\n",
    "        print(number)\n",
    "\n"
   ]
  },
  {
   "cell_type": "code",
   "execution_count": 10,
   "metadata": {},
   "outputs": [
    {
     "name": "stdout",
     "output_type": "stream",
     "text": [
      "[1, 2, 3, 4, 5]\n",
      "[1, 4, 9, 16, 25]\n"
     ]
    }
   ],
   "source": [
    "numbers = [1, 2, 3, 4, 5]\n",
    "print(numbers)\n",
    "\n",
    "for i in range(len(numbers)):\n",
    "    numbers[i] = numbers[i] ** 2\n",
    "\n",
    "print(numbers)"
   ]
  },
  {
   "cell_type": "markdown",
   "metadata": {},
   "source": [
    "List exercises questions from 1 to 23."
   ]
  }
 ],
 "metadata": {
  "kernelspec": {
   "display_name": "Python 3",
   "language": "python",
   "name": "python3"
  },
  "language_info": {
   "codemirror_mode": {
    "name": "ipython",
    "version": 3
   },
   "file_extension": ".py",
   "mimetype": "text/x-python",
   "name": "python",
   "nbconvert_exporter": "python",
   "pygments_lexer": "ipython3",
   "version": "3.7.0"
  }
 },
 "nbformat": 4,
 "nbformat_minor": 2
}
