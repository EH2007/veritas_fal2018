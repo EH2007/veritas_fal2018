{
 "cells": [
  {
   "cell_type": "markdown",
   "metadata": {},
   "source": [
    "# How to define a class"
   ]
  },
  {
   "cell_type": "code",
   "execution_count": 97,
   "metadata": {
    "collapsed": true
   },
   "outputs": [],
   "source": [
    "class Point(object):\n",
    "    \"\"\"Point class\"\"\"\n",
    "    def __init__(self):\n",
    "        \"\"\"initial location\"\"\"\n",
    "        self.x = 0\n",
    "        self.y = 0"
   ]
  },
  {
   "cell_type": "markdown",
   "metadata": {},
   "source": [
    "# How to use a class"
   ]
  },
  {
   "cell_type": "code",
   "execution_count": 98,
   "metadata": {},
   "outputs": [
    {
     "name": "stdout",
     "output_type": "stream",
     "text": [
      "0\n"
     ]
    }
   ],
   "source": [
    "#object\n",
    "p = Point()\n",
    "\n",
    "#access to states\n",
    "print(p.x)"
   ]
  },
  {
   "cell_type": "code",
   "execution_count": 99,
   "metadata": {},
   "outputs": [
    {
     "name": "stdout",
     "output_type": "stream",
     "text": [
      "0\n"
     ]
    }
   ],
   "source": [
    "q = Point()\n",
    "print(q.x)"
   ]
  },
  {
   "cell_type": "code",
   "execution_count": 100,
   "metadata": {
    "collapsed": true
   },
   "outputs": [],
   "source": [
    "q.x = 3"
   ]
  },
  {
   "cell_type": "code",
   "execution_count": 101,
   "metadata": {},
   "outputs": [
    {
     "name": "stdout",
     "output_type": "stream",
     "text": [
      "3\n"
     ]
    }
   ],
   "source": [
    "print(q.x)"
   ]
  },
  {
   "cell_type": "code",
   "execution_count": 102,
   "metadata": {
    "scrolled": true
   },
   "outputs": [
    {
     "name": "stdout",
     "output_type": "stream",
     "text": [
      "0\n"
     ]
    }
   ],
   "source": [
    "print(p.x)"
   ]
  },
  {
   "cell_type": "markdown",
   "metadata": {},
   "source": [
    "# In Python, we define a class by typing \"class\" and then providing it a name.\n",
    "## To make a fraction, we need a numerator and a denomenator; which is what __init__ will do."
   ]
  },
  {
   "cell_type": "code",
   "execution_count": 120,
   "metadata": {},
   "outputs": [
    {
     "ename": "SyntaxError",
     "evalue": "unexpected EOF while parsing (<ipython-input-120-f40c42bb8df5>, line 2)",
     "output_type": "error",
     "traceback": [
      "\u001b[0;36m  File \u001b[0;32m\"<ipython-input-120-f40c42bb8df5>\"\u001b[0;36m, line \u001b[0;32m2\u001b[0m\n\u001b[0;31m    \u001b[0m\n\u001b[0m    ^\u001b[0m\n\u001b[0;31mSyntaxError\u001b[0m\u001b[0;31m:\u001b[0m unexpected EOF while parsing\n"
     ]
    }
   ],
   "source": [
    "class Fraction(object):\n",
    "    def __init__(self,top,bottom):\n",
    "        pass"
   ]
  },
  {
   "cell_type": "code",
   "execution_count": 6,
   "metadata": {},
   "outputs": [
    {
     "name": "stdout",
     "output_type": "stream",
     "text": [
      "3\n"
     ]
    }
   ],
   "source": [
    "def gcd(m,n):\n",
    "    while m%n != 0:\n",
    "        oldm = m\n",
    "        oldn = n\n",
    "\n",
    "        m = oldn\n",
    "        n = oldm%oldn\n",
    "    return n\n",
    "\n",
    "print(gcd(123, 294))"
   ]
  },
  {
   "cell_type": "code",
   "execution_count": 114,
   "metadata": {
    "collapsed": true
   },
   "outputs": [],
   "source": [
    "class Fraction(object):\n",
    "    def __init__(self,top,bottom):\n",
    "        \n",
    "        \n",
    "        self.num = top\n",
    "        self.den = bottom\n",
    "    def show(self):\n",
    "        print(self.num, \"/\", self.den)\n",
    "    def __str__(self):\n",
    "        return str(self.num)+\"/\"+str(self.den)\n",
    "    def __add__(self,otherfraction):\n",
    "        newnum = self.num*otherfraction.den + self.den*otherfraction.num\n",
    "        newden = self.den*otherfraction.den\n",
    "        common = gcd(newnum,newden)\n",
    "        return Fraction(newnum//common, newden//common)\n",
    "    def __sub__(self, otherfraction):\n",
    "        newnum = self.num*otherfraction.den - self.den*otherfraction.num\n",
    "        newden = self.den*otherfraction.den\n",
    "        common = gcd(newnum,newden)\n",
    "        return Fraction(newnum//common, newden//common)\n",
    "    def __eq__(self,other):\n",
    "        firstnum = self.num*other.den\n",
    "        secondnum = other.num*self.den\n",
    "        return firstnum == secondnum\n",
    "    def getNum(self):\n",
    "        return self.num\n",
    "    def getDen(self):\n",
    "        return self.den\n",
    "    def __mul__(self, other):\n",
    "        newnum = self.num*other.num\n",
    "        newden = self.den*other.den\n",
    "        common = gcd(newnum,newden)\n",
    "        return Fraction(newnum//common, newden//common)\n",
    "    def __gt__(self,other):\n",
    "        firstnum = self.num*other.den\n",
    "        secondnum = other.num*self.den\n",
    "        return firstnum > secondnum\n",
    "    def __ge__(self,other):\n",
    "        firstnum = self.num*other.den\n",
    "        secondnum = other.num*self.den\n",
    "        return firstnum >= secondnum\n",
    "    def __lt__(self,other):\n",
    "        firstnum = self.num*other.den\n",
    "        secondnum = other.num*self.den\n",
    "        return firstnum < secondnum\n",
    "    def __le__(self,other):\n",
    "        firstnum = self.num*other.den\n",
    "        secondnum = other.num*self.den\n",
    "        return firstnum <= secondnum\n",
    "    def __ne__(self,other):\n",
    "        firstnum = self.num*other.den\n",
    "        secondnum = other.num*self.den\n",
    "        return firstnum != secondnum"
   ]
  },
  {
   "cell_type": "code",
   "execution_count": 115,
   "metadata": {
    "scrolled": true
   },
   "outputs": [
    {
     "name": "stdout",
     "output_type": "stream",
     "text": [
      "3 / 5\n",
      "3/5\n",
      "3/4\n",
      "1/4\n",
      "False\n",
      "3\n",
      "5\n",
      "1/8\n",
      "True\n",
      "True\n",
      "False\n",
      "False\n",
      "True\n"
     ]
    }
   ],
   "source": [
    "myf = Fraction(3,5)\n",
    "f1 = Fraction(1,2)\n",
    "f2 = Fraction(1,4)\n",
    "\n",
    "myf.show()\n",
    "\n",
    "print(myf)\n",
    "\n",
    "print(f1 + f2)\n",
    "\n",
    "print(f1-f2)\n",
    "\n",
    "print(f1 == f2)\n",
    "\n",
    "print(myf.getNum())\n",
    "\n",
    "print(myf.getDen())\n",
    "\n",
    "print(f1*f2)\n",
    "\n",
    "print(f1 > f2)\n",
    "\n",
    "print(f1 >= f2)\n",
    "\n",
    "print(f1 < f2)\n",
    "\n",
    "print(f1 <= f2)\n",
    "\n",
    "print(f1 != f2)"
   ]
  },
  {
   "cell_type": "markdown",
   "metadata": {},
   "source": [
    "### The __repr__ method is the \"official\" way of showing a string and the __str__ is the \"informal\" "
   ]
  },
  {
   "cell_type": "code",
   "execution_count": 9,
   "metadata": {},
   "outputs": [
    {
     "name": "stdout",
     "output_type": "stream",
     "text": [
      "429058029845093840598340598345\n",
      "429058029845093840598340598345\n",
      "'HEY'\n",
      "HEY\n"
     ]
    }
   ],
   "source": [
    "x = 429058029845093840598340598345\n",
    "print(repr(x))\n",
    "print(str(x))\n",
    "y = 'HEY'\n",
    "print(repr(y))\n",
    "print(str(y))"
   ]
  },
  {
   "cell_type": "code",
   "execution_count": null,
   "metadata": {},
   "outputs": [],
   "source": []
  }
 ],
 "metadata": {
  "kernelspec": {
   "display_name": "Python 3",
   "language": "python",
   "name": "python3"
  },
  "language_info": {
   "codemirror_mode": {
    "name": "ipython",
    "version": 3
   },
   "file_extension": ".py",
   "mimetype": "text/x-python",
   "name": "python",
   "nbconvert_exporter": "python",
   "pygments_lexer": "ipython3",
   "version": "3.6.5"
  }
 },
 "nbformat": 4,
 "nbformat_minor": 2
}
