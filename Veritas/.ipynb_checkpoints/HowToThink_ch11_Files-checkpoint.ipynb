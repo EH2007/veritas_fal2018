{
 "cells": [
  {
   "cell_type": "markdown",
   "metadata": {},
   "source": [
    "# 11.3 Reading a File"
   ]
  },
  {
   "cell_type": "code",
   "execution_count": 24,
   "metadata": {},
   "outputs": [
    {
     "data": {
      "text/plain": [
       "<_io.TextIOWrapper name='qbdata.txt' mode='r' encoding='UTF-8'>"
      ]
     },
     "execution_count": 24,
     "metadata": {},
     "output_type": "execute_result"
    }
   ],
   "source": [
    "qbfile"
   ]
  },
  {
   "cell_type": "code",
   "execution_count": 25,
   "metadata": {},
   "outputs": [
    {
     "name": "stdout",
     "output_type": "stream",
     "text": [
      "<_io.TextIOWrapper name='qbdata.txt' mode='r' encoding='UTF-8'>\n"
     ]
    }
   ],
   "source": [
    "print(qbfile)"
   ]
  },
  {
   "cell_type": "markdown",
   "metadata": {},
   "source": [
    "# 11.4 Iterating Over Lines"
   ]
  },
  {
   "cell_type": "code",
   "execution_count": 32,
   "metadata": {},
   "outputs": [
    {
     "name": "stdout",
     "output_type": "stream",
     "text": [
      "Colt McCoy 74.5\n",
      "Josh Freeman 95.9\n",
      "Michael Vick 100.2\n",
      "Matt Schaub 92.0\n",
      "Philip Rivers 101.8\n",
      "Matt Hasselbeck 73.2\n",
      "Jimmy Clausen 58.4\n",
      "Joe Flacco 93.6\n",
      "Kyle Orton 87.5\n",
      "Jason Campbell 84.5\n",
      "Peyton Manning 91.9\n",
      "Drew Brees 90.9\n",
      "Matt Ryan 91.0\n",
      "Matt Cassel 93.0\n",
      "Mark Sanchez 75.3\n",
      "Brett Favre 69.9\n",
      "David Garrard 90.8\n",
      "Eli Manning 85.3\n",
      "Carson Palmer 82.4\n",
      "Alex Smith 82.1\n",
      "Chad Henne 75.4\n",
      "Tony Romo 94.9\n",
      "Jay Cutler 86.3\n",
      "Jon Kitna 88.9\n",
      "Tom Brady 111.0\n",
      "Ben Roethlisberger 97.0\n",
      "Kerry Collins 82.2\n",
      "Derek Anderson 65.9\n",
      "Ryan Fitzpatrick 81.8\n",
      "Donovan McNabb 77.1\n",
      "Kevin Kolb 76.1\n",
      "Aaron Rodgers 101.2\n",
      "Sam Bradford 76.5\n",
      "Shaun Hill 81.3\n"
     ]
    },
    {
     "data": {
      "text/plain": [
       "<function TextIOWrapper.close()>"
      ]
     },
     "execution_count": 32,
     "metadata": {},
     "output_type": "execute_result"
    }
   ],
   "source": [
    "qbfile = open('qbdata.txt', 'r')\n",
    "for aline in qbfile:\n",
    "    values = aline.split()\n",
    "    print(values[0], values[1], values[10])\n",
    "    \n",
    "qbfile.close"
   ]
  },
  {
   "cell_type": "code",
   "execution_count": 27,
   "metadata": {},
   "outputs": [],
   "source": [
    "test_str = \"Colt McCoy QB CLE  135 222 1576    6   9   60.8%   74.5\""
   ]
  },
  {
   "cell_type": "code",
   "execution_count": 29,
   "metadata": {},
   "outputs": [
    {
     "data": {
      "text/plain": [
       "['Colt', 'McCoy', 'QB', 'CLE', '135', '222', '1576', '6', '9', '60.8%', '74.5']"
      ]
     },
     "execution_count": 29,
     "metadata": {},
     "output_type": "execute_result"
    }
   ],
   "source": [
    "test_str.split()"
   ]
  },
  {
   "cell_type": "markdown",
   "metadata": {},
   "source": [
    "# Alternative File Reading"
   ]
  },
  {
   "cell_type": "code",
   "execution_count": 33,
   "metadata": {},
   "outputs": [],
   "source": [
    "test_list = ['ab', 'cd', 'ef', 'gh']"
   ]
  },
  {
   "cell_type": "code",
   "execution_count": 36,
   "metadata": {},
   "outputs": [
    {
     "data": {
      "text/plain": [
       "['ab', 'cd']"
      ]
     },
     "execution_count": 36,
     "metadata": {},
     "output_type": "execute_result"
    }
   ],
   "source": [
    "test_list[0:2]"
   ]
  },
  {
   "cell_type": "code",
   "execution_count": null,
   "metadata": {},
   "outputs": [],
   "source": []
  }
 ],
 "metadata": {
  "kernelspec": {
   "display_name": "Python 3",
   "language": "python",
   "name": "python3"
  },
  "language_info": {
   "codemirror_mode": {
    "name": "ipython",
    "version": 3
   },
   "file_extension": ".py",
   "mimetype": "text/x-python",
   "name": "python",
   "nbconvert_exporter": "python",
   "pygments_lexer": "ipython3",
   "version": "3.6.5"
  }
 },
 "nbformat": 4,
 "nbformat_minor": 2
}
