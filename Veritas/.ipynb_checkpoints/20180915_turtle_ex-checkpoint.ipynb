{
 "cells": [
  {
   "cell_type": "markdown",
   "metadata": {},
   "source": [
    "# 1. Write a program that prints We like Python's turtles! 100 times."
   ]
  },
  {
   "cell_type": "code",
   "execution_count": 6,
   "metadata": {},
   "outputs": [
    {
     "name": "stdout",
     "output_type": "stream",
     "text": [
      "We like Python's turtles!\n",
      "We like Python's turtles!\n",
      "We like Python's turtles!\n",
      "We like Python's turtles!\n",
      "We like Python's turtles!\n",
      "We like Python's turtles!\n",
      "We like Python's turtles!\n",
      "We like Python's turtles!\n",
      "We like Python's turtles!\n",
      "We like Python's turtles!\n",
      "We like Python's turtles!\n",
      "We like Python's turtles!\n",
      "We like Python's turtles!\n",
      "We like Python's turtles!\n",
      "We like Python's turtles!\n",
      "We like Python's turtles!\n",
      "We like Python's turtles!\n",
      "We like Python's turtles!\n",
      "We like Python's turtles!\n",
      "We like Python's turtles!\n",
      "We like Python's turtles!\n",
      "We like Python's turtles!\n",
      "We like Python's turtles!\n",
      "We like Python's turtles!\n",
      "We like Python's turtles!\n",
      "We like Python's turtles!\n",
      "We like Python's turtles!\n",
      "We like Python's turtles!\n",
      "We like Python's turtles!\n",
      "We like Python's turtles!\n",
      "We like Python's turtles!\n",
      "We like Python's turtles!\n",
      "We like Python's turtles!\n",
      "We like Python's turtles!\n",
      "We like Python's turtles!\n",
      "We like Python's turtles!\n",
      "We like Python's turtles!\n",
      "We like Python's turtles!\n",
      "We like Python's turtles!\n",
      "We like Python's turtles!\n",
      "We like Python's turtles!\n",
      "We like Python's turtles!\n",
      "We like Python's turtles!\n",
      "We like Python's turtles!\n",
      "We like Python's turtles!\n",
      "We like Python's turtles!\n",
      "We like Python's turtles!\n",
      "We like Python's turtles!\n",
      "We like Python's turtles!\n",
      "We like Python's turtles!\n",
      "We like Python's turtles!\n",
      "We like Python's turtles!\n",
      "We like Python's turtles!\n",
      "We like Python's turtles!\n",
      "We like Python's turtles!\n",
      "We like Python's turtles!\n",
      "We like Python's turtles!\n",
      "We like Python's turtles!\n",
      "We like Python's turtles!\n",
      "We like Python's turtles!\n",
      "We like Python's turtles!\n",
      "We like Python's turtles!\n",
      "We like Python's turtles!\n",
      "We like Python's turtles!\n",
      "We like Python's turtles!\n",
      "We like Python's turtles!\n",
      "We like Python's turtles!\n",
      "We like Python's turtles!\n",
      "We like Python's turtles!\n",
      "We like Python's turtles!\n",
      "We like Python's turtles!\n",
      "We like Python's turtles!\n",
      "We like Python's turtles!\n",
      "We like Python's turtles!\n",
      "We like Python's turtles!\n",
      "We like Python's turtles!\n",
      "We like Python's turtles!\n",
      "We like Python's turtles!\n",
      "We like Python's turtles!\n",
      "We like Python's turtles!\n",
      "We like Python's turtles!\n",
      "We like Python's turtles!\n",
      "We like Python's turtles!\n",
      "We like Python's turtles!\n",
      "We like Python's turtles!\n",
      "We like Python's turtles!\n",
      "We like Python's turtles!\n",
      "We like Python's turtles!\n",
      "We like Python's turtles!\n",
      "We like Python's turtles!\n",
      "We like Python's turtles!\n",
      "We like Python's turtles!\n",
      "We like Python's turtles!\n",
      "We like Python's turtles!\n",
      "We like Python's turtles!\n",
      "We like Python's turtles!\n",
      "We like Python's turtles!\n",
      "We like Python's turtles!\n",
      "We like Python's turtles!\n",
      "We like Python's turtles!\n"
     ]
    }
   ],
   "source": [
    "for v in range(100):\n",
    "    print(\"We like Python's turtles!\")"
   ]
  },
  {
   "cell_type": "markdown",
   "metadata": {},
   "source": [
    "# 3. Write a program that uses a for loop to print\n",
    "One of the months of the year is January  \n",
    "One of the months of the year is February  \n",
    "One of the months of the year is March  \n",
    "etc ..."
   ]
  },
  {
   "cell_type": "code",
   "execution_count": 8,
   "metadata": {},
   "outputs": [
    {
     "name": "stdout",
     "output_type": "stream",
     "text": [
      "One of the months of the year is January\n",
      "One of the months of the year is February\n",
      "One of the months of the year is March\n",
      "One of the months of the year is April\n",
      "One of the months of the year is May\n",
      "One of the months of the year is June\n",
      "One of the months of the year is July\n",
      "One of the months of the year is August\n",
      "One of the months of the year is September\n",
      "One of the months of the year is October\n",
      "One of the months of the year is November\n",
      "One of the months of the year is December\n"
     ]
    }
   ],
   "source": [
    "for months in (\"January\", \"February\", \"March\", \"April\", \"May\", \"June\", \"July\", \"August\", \"September\", \"October\", \"November\", \"December\"):\n",
    "    print(\"One of the months of the year is \" + months)"
   ]
  },
  {
   "cell_type": "markdown",
   "metadata": {},
   "source": [
    "# 4. Assume you have a list of numbers 12, 10, 32, 3, 66, 17, 42, 99, 20\n",
    "\n",
    "Write a loop that prints each of the numbers on a new line.  \n",
    "Write a loop that prints each number and its square on a new line.  "
   ]
  },
  {
   "cell_type": "code",
   "execution_count": 9,
   "metadata": {},
   "outputs": [
    {
     "name": "stdout",
     "output_type": "stream",
     "text": [
      "12\n",
      "10\n",
      "32\n",
      "3\n",
      "66\n",
      "17\n",
      "42\n",
      "99\n",
      "20\n"
     ]
    }
   ],
   "source": [
    "#(a)\n",
    "for i in (12, 10, 32, 3, 66, 17, 42, 99, 20):\n",
    "    print (i)"
   ]
  },
  {
   "cell_type": "code",
   "execution_count": 10,
   "metadata": {},
   "outputs": [
    {
     "name": "stdout",
     "output_type": "stream",
     "text": [
      "12 144\n",
      "10 100\n",
      "32 1024\n",
      "3 9\n",
      "66 4356\n",
      "17 289\n",
      "42 1764\n",
      "99 9801\n",
      "20 400\n"
     ]
    }
   ],
   "source": [
    "#(b)\n",
    "for i in (12, 10, 32, 3, 66, 17, 42, 99, 20):\n",
    "    print(i, i**2)"
   ]
  },
  {
   "cell_type": "code",
   "execution_count": null,
   "metadata": {},
   "outputs": [],
   "source": [
    "#(c)\n",
    "for i in (12, 10, 32, 3, 66, 17, 42, 99, 20):"
   ]
  }
 ],
 "metadata": {
  "kernelspec": {
   "display_name": "Python 3",
   "language": "python",
   "name": "python3"
  },
  "language_info": {
   "codemirror_mode": {
    "name": "ipython",
    "version": 3
   },
   "file_extension": ".py",
   "mimetype": "text/x-python",
   "name": "python",
   "nbconvert_exporter": "python",
   "pygments_lexer": "ipython3",
   "version": "3.6.5"
  }
 },
 "nbformat": 4,
 "nbformat_minor": 2
}
